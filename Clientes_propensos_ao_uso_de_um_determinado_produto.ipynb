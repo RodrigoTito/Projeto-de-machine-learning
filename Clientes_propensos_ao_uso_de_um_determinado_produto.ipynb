{
  "nbformat": 4,
  "nbformat_minor": 0,
  "metadata": {
    "colab": {
      "name": "Clientes propensos ao uso de um determinado produto.ipynb",
      "provenance": [],
      "collapsed_sections": [
        "i9Uv63Ta_XwV",
        "jBCvxaEO_gDK",
        "pJbIaUs3CGrx",
        "TreYElDK-O9u",
        "rKA4Atfq8Q6w",
        "jSty63h2K7w2"
      ],
      "authorship_tag": "ABX9TyP/9Bsu42xqCOWh9Ypsr0As",
      "include_colab_link": true
    },
    "kernelspec": {
      "name": "python3",
      "display_name": "Python 3"
    },
    "language_info": {
      "name": "python"
    }
  },
  "cells": [
    {
      "cell_type": "markdown",
      "metadata": {
        "id": "view-in-github",
        "colab_type": "text"
      },
      "source": [
        "<a href=\"https://colab.research.google.com/github/RodrigoTito/Projeto-de-machine-learning/blob/main/Clientes_propensos_ao_uso_de_um_determinado_produto.ipynb\" target=\"_parent\"><img src=\"https://colab.research.google.com/assets/colab-badge.svg\" alt=\"Open In Colab\"/></a>"
      ]
    },
    {
      "cell_type": "markdown",
      "metadata": {
        "id": "i9Uv63Ta_XwV"
      },
      "source": [
        "# Projeto de machine learning"
      ]
    },
    {
      "cell_type": "markdown",
      "metadata": {
        "id": "sH105V1tu0Re"
      },
      "source": [
        "### Desafio proposto\n",
        "\n",
        "O desafio aqui é apresentar um projeto de machine learning para identificar clientes propensos ao uso de um determinado produto.\n",
        "\n",
        "Para tanto, usarei um conjunto de dados fictício que advém de um determinado banco privado de médio porte que inclui uma variedade de produtos bancários, como contas de poupança, contas correntes, produtos de investimento, produtos de crédito e empréstimos imobiliários. Este conjunto de dados está disponível na comunidade [Analytics Vidhya](https://datahack.analyticsvidhya.com/contest/all/#active) em [AmExpert 2021 - Hackathon de aprendizado de máquina](https://datahack.analyticsvidhya.com/contest/amexpert-2021-machine-learning-hackathon/#About).\n",
        "\n",
        "### Informações demográficas sobre os clientes do conjunto de dados\n",
        "\n",
        "Column name   | Descrição \n",
        "--------- | ------------\n",
        "Customer_ID | ID único para o cliente \n",
        "Gender      | Gênero do Cliente\n",
        "Age         | Idade do cliente (em anos)\n",
        "Vintage     | Vintage para o cliente (em meses)\n",
        "Is_Active   | Índice de atividade, 0: cliente menos frequente, 1: cliente mais frequente\n",
        "City_Category| Categoria codificada da cidade do cliente\n",
        "Customer_Category| Categoria codificada do cliente\n",
        "Product_Holding_B1| Produto em uso  (codificado)\n",
        "Product_Holding_B2| Produto a uso futuro (Codificado) - Coluna de Destino"
      ]
    },
    {
      "cell_type": "markdown",
      "metadata": {
        "id": "OSw_D2ZZs2fN"
      },
      "source": [
        "### Resumo do projeto\n",
        "\n",
        "* Bibliotecas necessárias\n",
        "* Carregar dados \n",
        "* EDA - Análise Exploratória de Dados\n",
        "* Pré-processamento e modelagem dos dados \n",
        "* Previsão da variável destino usando regressão logística \n",
        "* Métrica de avaliação com base no problema \n",
        "* Previsão e apresentação"
      ]
    },
    {
      "cell_type": "markdown",
      "metadata": {
        "id": "jBCvxaEO_gDK"
      },
      "source": [
        "### Bibliotecas"
      ]
    },
    {
      "cell_type": "code",
      "metadata": {
        "id": "9GifveMp_boy"
      },
      "source": [
        "import os\n",
        "import numpy as np\n",
        "import pandas as pd\n",
        "import matplotlib.pyplot as plt\n",
        "import seaborn as sns"
      ],
      "execution_count": 3,
      "outputs": []
    },
    {
      "cell_type": "markdown",
      "metadata": {
        "id": "g35jinGGBy7K"
      },
      "source": [
        "* Carregar Dados"
      ]
    },
    {
      "cell_type": "code",
      "metadata": {
        "colab": {
          "base_uri": "https://localhost:8080/"
        },
        "id": "jrNtMDPnB2VY",
        "outputId": "ee367248-19f5-401c-b547-5a06ca81c75a"
      },
      "source": [
        "print(sorted(os.listdir(\"/content\")))"
      ],
      "execution_count": 4,
      "outputs": [
        {
          "output_type": "stream",
          "name": "stdout",
          "text": [
            "['.config', 'sample_data', 'test_VkM91FT.csv', 'train_go05W65.csv']\n"
          ]
        }
      ]
    },
    {
      "cell_type": "code",
      "metadata": {
        "id": "jlN6tfSBCATi"
      },
      "source": [
        "test, train = [pd.read_csv(f\"../content/{f}\", ) for f in sorted(os.listdir(\"../content\"))[-2:]]"
      ],
      "execution_count": 5,
      "outputs": []
    },
    {
      "cell_type": "markdown",
      "metadata": {
        "id": "pJbIaUs3CGrx"
      },
      "source": [
        "### EDA - Análise Exploratória de Dados"
      ]
    },
    {
      "cell_type": "markdown",
      "metadata": {
        "id": "KOCoIe7DsWOS"
      },
      "source": [
        "* Os tamanhos dos datasets"
      ]
    },
    {
      "cell_type": "code",
      "metadata": {
        "colab": {
          "base_uri": "https://localhost:8080/"
        },
        "id": "Gya8zHy3CI-Y",
        "outputId": "8d34f86b-4cc8-4a8c-fd34-864aeafcbce0"
      },
      "source": [
        "[x.shape for x in [test, train]]"
      ],
      "execution_count": 6,
      "outputs": [
        {
          "output_type": "execute_result",
          "data": {
            "text/plain": [
              "[(20327, 8), (37748, 9)]"
            ]
          },
          "metadata": {},
          "execution_count": 6
        }
      ]
    },
    {
      "cell_type": "markdown",
      "metadata": {
        "id": "Y1D9uIk9sgvi"
      },
      "source": [
        "* Variáveis do dataset train"
      ]
    },
    {
      "cell_type": "code",
      "metadata": {
        "colab": {
          "base_uri": "https://localhost:8080/",
          "height": 0
        },
        "id": "kJnJCgdusk_D",
        "outputId": "a94311c7-c68e-4186-fc23-0c70ae293bdb"
      },
      "source": [
        "pd.DataFrame({'Cols_Train':train.columns})"
      ],
      "execution_count": 7,
      "outputs": [
        {
          "output_type": "execute_result",
          "data": {
            "text/html": [
              "<div>\n",
              "<style scoped>\n",
              "    .dataframe tbody tr th:only-of-type {\n",
              "        vertical-align: middle;\n",
              "    }\n",
              "\n",
              "    .dataframe tbody tr th {\n",
              "        vertical-align: top;\n",
              "    }\n",
              "\n",
              "    .dataframe thead th {\n",
              "        text-align: right;\n",
              "    }\n",
              "</style>\n",
              "<table border=\"1\" class=\"dataframe\">\n",
              "  <thead>\n",
              "    <tr style=\"text-align: right;\">\n",
              "      <th></th>\n",
              "      <th>Cols_Train</th>\n",
              "    </tr>\n",
              "  </thead>\n",
              "  <tbody>\n",
              "    <tr>\n",
              "      <th>0</th>\n",
              "      <td>Customer_ID</td>\n",
              "    </tr>\n",
              "    <tr>\n",
              "      <th>1</th>\n",
              "      <td>Gender</td>\n",
              "    </tr>\n",
              "    <tr>\n",
              "      <th>2</th>\n",
              "      <td>Age</td>\n",
              "    </tr>\n",
              "    <tr>\n",
              "      <th>3</th>\n",
              "      <td>Vintage</td>\n",
              "    </tr>\n",
              "    <tr>\n",
              "      <th>4</th>\n",
              "      <td>Is_Active</td>\n",
              "    </tr>\n",
              "    <tr>\n",
              "      <th>5</th>\n",
              "      <td>City_Category</td>\n",
              "    </tr>\n",
              "    <tr>\n",
              "      <th>6</th>\n",
              "      <td>Customer_Category</td>\n",
              "    </tr>\n",
              "    <tr>\n",
              "      <th>7</th>\n",
              "      <td>Product_Holding_B1</td>\n",
              "    </tr>\n",
              "    <tr>\n",
              "      <th>8</th>\n",
              "      <td>Product_Holding_B2</td>\n",
              "    </tr>\n",
              "  </tbody>\n",
              "</table>\n",
              "</div>"
            ],
            "text/plain": [
              "           Cols_Train\n",
              "0         Customer_ID\n",
              "1              Gender\n",
              "2                 Age\n",
              "3             Vintage\n",
              "4           Is_Active\n",
              "5       City_Category\n",
              "6   Customer_Category\n",
              "7  Product_Holding_B1\n",
              "8  Product_Holding_B2"
            ]
          },
          "metadata": {},
          "execution_count": 7
        }
      ]
    },
    {
      "cell_type": "markdown",
      "metadata": {
        "id": "pQHhKCu0tAoQ"
      },
      "source": [
        "* Colunas diferentes dos datasets train e test"
      ]
    },
    {
      "cell_type": "code",
      "metadata": {
        "colab": {
          "base_uri": "https://localhost:8080/"
        },
        "id": "xTCf4rYntBAC",
        "outputId": "6682065a-fceb-47cc-ae06-6f100a6c03a5"
      },
      "source": [
        "train.columns.difference(test.columns)"
      ],
      "execution_count": 8,
      "outputs": [
        {
          "output_type": "execute_result",
          "data": {
            "text/plain": [
              "Index(['Product_Holding_B2'], dtype='object')"
            ]
          },
          "metadata": {},
          "execution_count": 8
        }
      ]
    },
    {
      "cell_type": "markdown",
      "metadata": {
        "id": "itkQ26B9txpH"
      },
      "source": [
        "* Tipo das variáveis"
      ]
    },
    {
      "cell_type": "code",
      "metadata": {
        "colab": {
          "base_uri": "https://localhost:8080/"
        },
        "id": "rUdHVPbUtzks",
        "outputId": "b7544d65-fe5b-40b9-97ad-00a39446bc3b"
      },
      "source": [
        "train.dtypes.value_counts()  "
      ],
      "execution_count": 9,
      "outputs": [
        {
          "output_type": "execute_result",
          "data": {
            "text/plain": [
              "object    6\n",
              "int64     3\n",
              "dtype: int64"
            ]
          },
          "metadata": {},
          "execution_count": 9
        }
      ]
    },
    {
      "cell_type": "markdown",
      "metadata": {
        "id": "Ml2G3XFyuXq-"
      },
      "source": [
        "* Visualizando o dataset train"
      ]
    },
    {
      "cell_type": "code",
      "metadata": {
        "colab": {
          "base_uri": "https://localhost:8080/",
          "height": 0
        },
        "id": "fiDclNg7CX3C",
        "outputId": "1e660a0d-580f-476f-cf34-4d7529ff21c0"
      },
      "source": [
        "train.head()"
      ],
      "execution_count": 10,
      "outputs": [
        {
          "output_type": "execute_result",
          "data": {
            "text/html": [
              "<div>\n",
              "<style scoped>\n",
              "    .dataframe tbody tr th:only-of-type {\n",
              "        vertical-align: middle;\n",
              "    }\n",
              "\n",
              "    .dataframe tbody tr th {\n",
              "        vertical-align: top;\n",
              "    }\n",
              "\n",
              "    .dataframe thead th {\n",
              "        text-align: right;\n",
              "    }\n",
              "</style>\n",
              "<table border=\"1\" class=\"dataframe\">\n",
              "  <thead>\n",
              "    <tr style=\"text-align: right;\">\n",
              "      <th></th>\n",
              "      <th>Customer_ID</th>\n",
              "      <th>Gender</th>\n",
              "      <th>Age</th>\n",
              "      <th>Vintage</th>\n",
              "      <th>Is_Active</th>\n",
              "      <th>City_Category</th>\n",
              "      <th>Customer_Category</th>\n",
              "      <th>Product_Holding_B1</th>\n",
              "      <th>Product_Holding_B2</th>\n",
              "    </tr>\n",
              "  </thead>\n",
              "  <tbody>\n",
              "    <tr>\n",
              "      <th>0</th>\n",
              "      <td>CC264719</td>\n",
              "      <td>Male</td>\n",
              "      <td>41</td>\n",
              "      <td>14</td>\n",
              "      <td>0</td>\n",
              "      <td>C1</td>\n",
              "      <td>S3</td>\n",
              "      <td>['P16']</td>\n",
              "      <td>['P8']</td>\n",
              "    </tr>\n",
              "    <tr>\n",
              "      <th>1</th>\n",
              "      <td>CC209679</td>\n",
              "      <td>Female</td>\n",
              "      <td>47</td>\n",
              "      <td>14</td>\n",
              "      <td>1</td>\n",
              "      <td>C1</td>\n",
              "      <td>S2</td>\n",
              "      <td>['P13', 'P20']</td>\n",
              "      <td>['P3']</td>\n",
              "    </tr>\n",
              "    <tr>\n",
              "      <th>2</th>\n",
              "      <td>CC319633</td>\n",
              "      <td>Female</td>\n",
              "      <td>59</td>\n",
              "      <td>14</td>\n",
              "      <td>0</td>\n",
              "      <td>C2</td>\n",
              "      <td>S2</td>\n",
              "      <td>['P11']</td>\n",
              "      <td>['P00']</td>\n",
              "    </tr>\n",
              "    <tr>\n",
              "      <th>3</th>\n",
              "      <td>CC231413</td>\n",
              "      <td>Female</td>\n",
              "      <td>32</td>\n",
              "      <td>16</td>\n",
              "      <td>0</td>\n",
              "      <td>C1</td>\n",
              "      <td>S2</td>\n",
              "      <td>['P8', 'P13']</td>\n",
              "      <td>['P6']</td>\n",
              "    </tr>\n",
              "    <tr>\n",
              "      <th>4</th>\n",
              "      <td>CC259633</td>\n",
              "      <td>Male</td>\n",
              "      <td>30</td>\n",
              "      <td>15</td>\n",
              "      <td>0</td>\n",
              "      <td>C2</td>\n",
              "      <td>S3</td>\n",
              "      <td>['P16', 'P17', 'P21']</td>\n",
              "      <td>['P8', 'P12']</td>\n",
              "    </tr>\n",
              "  </tbody>\n",
              "</table>\n",
              "</div>"
            ],
            "text/plain": [
              "  Customer_ID  Gender  ...     Product_Holding_B1  Product_Holding_B2\n",
              "0    CC264719    Male  ...                ['P16']              ['P8']\n",
              "1    CC209679  Female  ...         ['P13', 'P20']              ['P3']\n",
              "2    CC319633  Female  ...                ['P11']             ['P00']\n",
              "3    CC231413  Female  ...          ['P8', 'P13']              ['P6']\n",
              "4    CC259633    Male  ...  ['P16', 'P17', 'P21']       ['P8', 'P12']\n",
              "\n",
              "[5 rows x 9 columns]"
            ]
          },
          "metadata": {},
          "execution_count": 10
        }
      ]
    },
    {
      "cell_type": "markdown",
      "metadata": {
        "id": "aw0QstsC1YZi"
      },
      "source": [
        "* Resumo de cada variável do dataset train"
      ]
    },
    {
      "cell_type": "code",
      "metadata": {
        "colab": {
          "base_uri": "https://localhost:8080/",
          "height": 0
        },
        "id": "6VamJNLs1asS",
        "outputId": "919900cd-11da-416f-f55d-797b7194a62a"
      },
      "source": [
        "df_aux = pd.DataFrame({'Type': train.dtypes,\n",
        "                      'Missing': train.isna().sum(),\n",
        "                      'Size': train.shape[0],\n",
        "                       'Unique': train.nunique()\n",
        "                     })\n",
        "df_aux['Missing_%']= df_aux.Missing/df_aux.Size * 100\n",
        "df_aux.sort_values(by='Missing_%', ascending=False)"
      ],
      "execution_count": 11,
      "outputs": [
        {
          "output_type": "execute_result",
          "data": {
            "text/html": [
              "<div>\n",
              "<style scoped>\n",
              "    .dataframe tbody tr th:only-of-type {\n",
              "        vertical-align: middle;\n",
              "    }\n",
              "\n",
              "    .dataframe tbody tr th {\n",
              "        vertical-align: top;\n",
              "    }\n",
              "\n",
              "    .dataframe thead th {\n",
              "        text-align: right;\n",
              "    }\n",
              "</style>\n",
              "<table border=\"1\" class=\"dataframe\">\n",
              "  <thead>\n",
              "    <tr style=\"text-align: right;\">\n",
              "      <th></th>\n",
              "      <th>Type</th>\n",
              "      <th>Missing</th>\n",
              "      <th>Size</th>\n",
              "      <th>Unique</th>\n",
              "      <th>Missing_%</th>\n",
              "    </tr>\n",
              "  </thead>\n",
              "  <tbody>\n",
              "    <tr>\n",
              "      <th>Customer_ID</th>\n",
              "      <td>object</td>\n",
              "      <td>0</td>\n",
              "      <td>37748</td>\n",
              "      <td>37748</td>\n",
              "      <td>0.0</td>\n",
              "    </tr>\n",
              "    <tr>\n",
              "      <th>Gender</th>\n",
              "      <td>object</td>\n",
              "      <td>0</td>\n",
              "      <td>37748</td>\n",
              "      <td>2</td>\n",
              "      <td>0.0</td>\n",
              "    </tr>\n",
              "    <tr>\n",
              "      <th>Age</th>\n",
              "      <td>int64</td>\n",
              "      <td>0</td>\n",
              "      <td>37748</td>\n",
              "      <td>36</td>\n",
              "      <td>0.0</td>\n",
              "    </tr>\n",
              "    <tr>\n",
              "      <th>Vintage</th>\n",
              "      <td>int64</td>\n",
              "      <td>0</td>\n",
              "      <td>37748</td>\n",
              "      <td>64</td>\n",
              "      <td>0.0</td>\n",
              "    </tr>\n",
              "    <tr>\n",
              "      <th>Is_Active</th>\n",
              "      <td>int64</td>\n",
              "      <td>0</td>\n",
              "      <td>37748</td>\n",
              "      <td>2</td>\n",
              "      <td>0.0</td>\n",
              "    </tr>\n",
              "    <tr>\n",
              "      <th>City_Category</th>\n",
              "      <td>object</td>\n",
              "      <td>0</td>\n",
              "      <td>37748</td>\n",
              "      <td>2</td>\n",
              "      <td>0.0</td>\n",
              "    </tr>\n",
              "    <tr>\n",
              "      <th>Customer_Category</th>\n",
              "      <td>object</td>\n",
              "      <td>0</td>\n",
              "      <td>37748</td>\n",
              "      <td>3</td>\n",
              "      <td>0.0</td>\n",
              "    </tr>\n",
              "    <tr>\n",
              "      <th>Product_Holding_B1</th>\n",
              "      <td>object</td>\n",
              "      <td>0</td>\n",
              "      <td>37748</td>\n",
              "      <td>617</td>\n",
              "      <td>0.0</td>\n",
              "    </tr>\n",
              "    <tr>\n",
              "      <th>Product_Holding_B2</th>\n",
              "      <td>object</td>\n",
              "      <td>0</td>\n",
              "      <td>37748</td>\n",
              "      <td>495</td>\n",
              "      <td>0.0</td>\n",
              "    </tr>\n",
              "  </tbody>\n",
              "</table>\n",
              "</div>"
            ],
            "text/plain": [
              "                      Type  Missing   Size  Unique  Missing_%\n",
              "Customer_ID         object        0  37748   37748        0.0\n",
              "Gender              object        0  37748       2        0.0\n",
              "Age                  int64        0  37748      36        0.0\n",
              "Vintage              int64        0  37748      64        0.0\n",
              "Is_Active            int64        0  37748       2        0.0\n",
              "City_Category       object        0  37748       2        0.0\n",
              "Customer_Category   object        0  37748       3        0.0\n",
              "Product_Holding_B1  object        0  37748     617        0.0\n",
              "Product_Holding_B2  object        0  37748     495        0.0"
            ]
          },
          "metadata": {},
          "execution_count": 11
        }
      ]
    },
    {
      "cell_type": "markdown",
      "metadata": {
        "id": "iCknikf-0KNG"
      },
      "source": [
        "* Resumo de cada variável do dataset test"
      ]
    },
    {
      "cell_type": "code",
      "metadata": {
        "colab": {
          "base_uri": "https://localhost:8080/",
          "height": 0
        },
        "id": "XLVZXo7Y0JSB",
        "outputId": "d6cc4dbd-43d8-4295-aa75-41764898a922"
      },
      "source": [
        "df_aux = pd.DataFrame({'Type': test.dtypes,\n",
        "                      'Missing': test.isna().sum(),\n",
        "                      'Size': test.shape[0],\n",
        "                       'Unique': test.nunique()\n",
        "                     })\n",
        "df_aux['Missing_%']= df_aux.Missing/df_aux.Size * 100\n",
        "df_aux.sort_values(by='Missing_%', ascending=False)"
      ],
      "execution_count": 12,
      "outputs": [
        {
          "output_type": "execute_result",
          "data": {
            "text/html": [
              "<div>\n",
              "<style scoped>\n",
              "    .dataframe tbody tr th:only-of-type {\n",
              "        vertical-align: middle;\n",
              "    }\n",
              "\n",
              "    .dataframe tbody tr th {\n",
              "        vertical-align: top;\n",
              "    }\n",
              "\n",
              "    .dataframe thead th {\n",
              "        text-align: right;\n",
              "    }\n",
              "</style>\n",
              "<table border=\"1\" class=\"dataframe\">\n",
              "  <thead>\n",
              "    <tr style=\"text-align: right;\">\n",
              "      <th></th>\n",
              "      <th>Type</th>\n",
              "      <th>Missing</th>\n",
              "      <th>Size</th>\n",
              "      <th>Unique</th>\n",
              "      <th>Missing_%</th>\n",
              "    </tr>\n",
              "  </thead>\n",
              "  <tbody>\n",
              "    <tr>\n",
              "      <th>Customer_ID</th>\n",
              "      <td>object</td>\n",
              "      <td>0</td>\n",
              "      <td>20327</td>\n",
              "      <td>20327</td>\n",
              "      <td>0.0</td>\n",
              "    </tr>\n",
              "    <tr>\n",
              "      <th>Gender</th>\n",
              "      <td>object</td>\n",
              "      <td>0</td>\n",
              "      <td>20327</td>\n",
              "      <td>2</td>\n",
              "      <td>0.0</td>\n",
              "    </tr>\n",
              "    <tr>\n",
              "      <th>Age</th>\n",
              "      <td>int64</td>\n",
              "      <td>0</td>\n",
              "      <td>20327</td>\n",
              "      <td>36</td>\n",
              "      <td>0.0</td>\n",
              "    </tr>\n",
              "    <tr>\n",
              "      <th>Vintage</th>\n",
              "      <td>int64</td>\n",
              "      <td>0</td>\n",
              "      <td>20327</td>\n",
              "      <td>63</td>\n",
              "      <td>0.0</td>\n",
              "    </tr>\n",
              "    <tr>\n",
              "      <th>Is_Active</th>\n",
              "      <td>int64</td>\n",
              "      <td>0</td>\n",
              "      <td>20327</td>\n",
              "      <td>2</td>\n",
              "      <td>0.0</td>\n",
              "    </tr>\n",
              "    <tr>\n",
              "      <th>City_Category</th>\n",
              "      <td>object</td>\n",
              "      <td>0</td>\n",
              "      <td>20327</td>\n",
              "      <td>2</td>\n",
              "      <td>0.0</td>\n",
              "    </tr>\n",
              "    <tr>\n",
              "      <th>Customer_Category</th>\n",
              "      <td>object</td>\n",
              "      <td>0</td>\n",
              "      <td>20327</td>\n",
              "      <td>3</td>\n",
              "      <td>0.0</td>\n",
              "    </tr>\n",
              "    <tr>\n",
              "      <th>Product_Holding_B1</th>\n",
              "      <td>object</td>\n",
              "      <td>0</td>\n",
              "      <td>20327</td>\n",
              "      <td>510</td>\n",
              "      <td>0.0</td>\n",
              "    </tr>\n",
              "  </tbody>\n",
              "</table>\n",
              "</div>"
            ],
            "text/plain": [
              "                      Type  Missing   Size  Unique  Missing_%\n",
              "Customer_ID         object        0  20327   20327        0.0\n",
              "Gender              object        0  20327       2        0.0\n",
              "Age                  int64        0  20327      36        0.0\n",
              "Vintage              int64        0  20327      63        0.0\n",
              "Is_Active            int64        0  20327       2        0.0\n",
              "City_Category       object        0  20327       2        0.0\n",
              "Customer_Category   object        0  20327       3        0.0\n",
              "Product_Holding_B1  object        0  20327     510        0.0"
            ]
          },
          "metadata": {},
          "execution_count": 12
        }
      ]
    },
    {
      "cell_type": "markdown",
      "metadata": {
        "id": "028ahXBf145P"
      },
      "source": [
        "* Estatísticas descritivas"
      ]
    },
    {
      "cell_type": "code",
      "metadata": {
        "colab": {
          "base_uri": "https://localhost:8080/",
          "height": 0
        },
        "id": "lvELPZkECQwT",
        "outputId": "ab09ae8c-4d8b-401a-b913-9e179146c279"
      },
      "source": [
        "train.describe().transpose()"
      ],
      "execution_count": 13,
      "outputs": [
        {
          "output_type": "execute_result",
          "data": {
            "text/html": [
              "<div>\n",
              "<style scoped>\n",
              "    .dataframe tbody tr th:only-of-type {\n",
              "        vertical-align: middle;\n",
              "    }\n",
              "\n",
              "    .dataframe tbody tr th {\n",
              "        vertical-align: top;\n",
              "    }\n",
              "\n",
              "    .dataframe thead th {\n",
              "        text-align: right;\n",
              "    }\n",
              "</style>\n",
              "<table border=\"1\" class=\"dataframe\">\n",
              "  <thead>\n",
              "    <tr style=\"text-align: right;\">\n",
              "      <th></th>\n",
              "      <th>count</th>\n",
              "      <th>mean</th>\n",
              "      <th>std</th>\n",
              "      <th>min</th>\n",
              "      <th>25%</th>\n",
              "      <th>50%</th>\n",
              "      <th>75%</th>\n",
              "      <th>max</th>\n",
              "    </tr>\n",
              "  </thead>\n",
              "  <tbody>\n",
              "    <tr>\n",
              "      <th>Age</th>\n",
              "      <td>37748.0</td>\n",
              "      <td>38.521379</td>\n",
              "      <td>10.121811</td>\n",
              "      <td>24.0</td>\n",
              "      <td>29.0</td>\n",
              "      <td>37.0</td>\n",
              "      <td>47.0</td>\n",
              "      <td>59.0</td>\n",
              "    </tr>\n",
              "    <tr>\n",
              "      <th>Vintage</th>\n",
              "      <td>37748.0</td>\n",
              "      <td>19.573169</td>\n",
              "      <td>10.252417</td>\n",
              "      <td>2.0</td>\n",
              "      <td>13.0</td>\n",
              "      <td>16.0</td>\n",
              "      <td>23.0</td>\n",
              "      <td>65.0</td>\n",
              "    </tr>\n",
              "    <tr>\n",
              "      <th>Is_Active</th>\n",
              "      <td>37748.0</td>\n",
              "      <td>0.264809</td>\n",
              "      <td>0.441237</td>\n",
              "      <td>0.0</td>\n",
              "      <td>0.0</td>\n",
              "      <td>0.0</td>\n",
              "      <td>1.0</td>\n",
              "      <td>1.0</td>\n",
              "    </tr>\n",
              "  </tbody>\n",
              "</table>\n",
              "</div>"
            ],
            "text/plain": [
              "             count       mean        std   min   25%   50%   75%   max\n",
              "Age        37748.0  38.521379  10.121811  24.0  29.0  37.0  47.0  59.0\n",
              "Vintage    37748.0  19.573169  10.252417   2.0  13.0  16.0  23.0  65.0\n",
              "Is_Active  37748.0   0.264809   0.441237   0.0   0.0   0.0   1.0   1.0"
            ]
          },
          "metadata": {},
          "execution_count": 13
        }
      ]
    },
    {
      "cell_type": "markdown",
      "metadata": {
        "id": "BkNw6Gzt2BnF"
      },
      "source": [
        "* Visualização "
      ]
    },
    {
      "cell_type": "markdown",
      "metadata": {
        "id": "y8WqGUNx2Nme"
      },
      "source": [
        "Gráficos de colunas"
      ]
    },
    {
      "cell_type": "code",
      "metadata": {
        "id": "gMlLz_mf2LLl"
      },
      "source": [
        "def grafico_com_porcentagem(df,feature,hue):\n",
        "    total = len(df)\n",
        "    ax =  sns.countplot(x=feature,hue=hue, data=df,color = \"#2b8cbe\")\n",
        "    ax.set_ylim(0,total*1.1) # Ajusta altura do frame\n",
        "    for p in ax.patches:\n",
        "        x = p.get_x() + p.get_width()/2\n",
        "        y = p.get_height()\n",
        "        ax.annotate('{:.2f}%'.format(100*p.get_height()/total), (x, y+10), ha='center')\n",
        "    return ax\n",
        "def grafico_com_porcentagem_1(g):\n",
        "    g.ax.set_ylim(0,100)\n",
        "    for p in g.ax.patches:\n",
        "        x = p.get_x() + p.get_width()/2\n",
        "        y = p.get_height()\n",
        "        g.ax.annotate('{:.2f}%'.format(p.get_height()), (x, y+2), ha='center')\n",
        "    return g"
      ],
      "execution_count": 14,
      "outputs": []
    },
    {
      "cell_type": "code",
      "metadata": {
        "colab": {
          "base_uri": "https://localhost:8080/",
          "height": 0
        },
        "id": "hB853sjp2XWz",
        "outputId": "1338c232-2c87-4d4f-b594-ccd102b66121"
      },
      "source": [
        "plt.figure(figsize=(20,8))\n",
        "plt.subplot(221),grafico_com_porcentagem(train,'Is_Active','Is_Active')\n",
        "plt.subplot(222),grafico_com_porcentagem(train,'Gender','Is_Active')\n",
        "plt.subplot(223),grafico_com_porcentagem(train,'City_Category','Is_Active')\n",
        "plt.subplot(224),grafico_com_porcentagem(train,'Customer_Category','Is_Active')\n",
        "plt.show()"
      ],
      "execution_count": 15,
      "outputs": [
        {
          "output_type": "display_data",
          "data": {
            "image/png": "[encoded data removed]",
            "text/plain": [
              "<Figure size 1440x576 with 4 Axes>"
            ]
          },
          "metadata": {
            "needs_background": "light"
          }
        }
      ]
    },
    {
      "cell_type": "code",
      "metadata": {
        "colab": {
          "base_uri": "https://localhost:8080/",
          "height": 0
        },
        "id": "n9Z-Bdx-Pb3e",
        "outputId": "a8679e21-8fdc-4501-8e65-03640115dfa8"
      },
      "source": [
        "df1 = train.groupby('Gender')['Is_Active'].value_counts(normalize=True)*100\n",
        "df1 = df1.rename('percent').reset_index().sort_values(by=['percent'], ascending = True)\n",
        "\n",
        "g = sns.catplot(x='Gender',y='percent',hue='Is_Active',kind='bar',data=df1, height=5,aspect = 3,palette=\"tab10\")\n",
        "grafico_com_porcentagem_1(g)\n",
        "plt.title('Taxa de Índice de atividade/ Gênero do Cliente \\n', fontsize=20)\n",
        "plt.show()"
      ],
      "execution_count": 16,
      "outputs": [
        {
          "output_type": "display_data",
          "data": {
            "image/png": "[encoded data removed]",
            "text/plain": [
              "<Figure size 1132.12x360 with 1 Axes>"
            ]
          },
          "metadata": {
            "needs_background": "light"
          }
        }
      ]
    },
    {
      "cell_type": "code",
      "metadata": {
        "colab": {
          "base_uri": "https://localhost:8080/",
          "height": 0
        },
        "id": "c7KoElgEV1h5",
        "outputId": "84cbc741-2173-41fc-c789-f99246bf7ae2"
      },
      "source": [
        "df1 = train.groupby('Customer_Category')['Is_Active'].value_counts(normalize=True)*100\n",
        "df1 = df1.rename('percent').reset_index().sort_values(by=['percent'], ascending = True)\n",
        "\n",
        "g = sns.catplot(x='Customer_Category',y='percent',hue='Is_Active',kind='bar',data=df1, height=5,aspect = 3,palette=\"tab10\")\n",
        "grafico_com_porcentagem_1(g)\n",
        "plt.title('Taxa de Índice de atividade/ Categoria codificada do cliente \\n', fontsize=20)\n",
        "plt.show()"
      ],
      "execution_count": 17,
      "outputs": [
        {
          "output_type": "display_data",
          "data": {
            "image/png": "[encoded data removed]",
            "text/plain": [
              "<Figure size 1132.12x360 with 1 Axes>"
            ]
          },
          "metadata": {
            "needs_background": "light"
          }
        }
      ]
    },
    {
      "cell_type": "markdown",
      "metadata": {
        "id": "9dTFVJOw2eAn"
      },
      "source": [
        "* Lista com os códigos da coluna **Product_Holding_B1** -  produto em uso sem duplicação:"
      ]
    },
    {
      "cell_type": "code",
      "metadata": {
        "colab": {
          "base_uri": "https://localhost:8080/"
        },
        "id": "B7X5bC3u2gyH",
        "outputId": "5b5afec1-0c2a-45ae-cfdb-99780515190e"
      },
      "source": [
        "list_codigo_exclusivo_atual = []\n",
        "for i in train['Product_Holding_B1']:\n",
        "  list_codigo_exclusivo_atual = list(set(list_codigo_exclusivo_atual + eval(i))) # Lista cm a codificação sem duplicação: \n",
        "\n",
        "list_codigo_exclusivo_atual.sort()\n",
        "print(list_codigo_exclusivo_atual,'\\n \\n','São',len(list_codigo_exclusivo_atual), 'produtos')"
      ],
      "execution_count": 19,
      "outputs": [
        {
          "output_type": "stream",
          "name": "stdout",
          "text": [
            "['P00', 'P1', 'P10', 'P11', 'P12', 'P13', 'P14', 'P15', 'P16', 'P17', 'P18', 'P19', 'P2', 'P20', 'P21', 'P3', 'P4', 'P5', 'P6', 'P7', 'P8', 'P9'] \n",
            " \n",
            " São 22 produtos\n"
          ]
        }
      ]
    },
    {
      "cell_type": "markdown",
      "metadata": {
        "id": "vYcJQnWjvaZl"
      },
      "source": [
        "* O top 15 produtos mais utilizados no dataset:  coluna **Product_Holding_B1**\t- produto em uso"
      ]
    },
    {
      "cell_type": "code",
      "metadata": {
        "colab": {
          "base_uri": "https://localhost:8080/",
          "height": 0
        },
        "id": "DHse33Tsvq9Q",
        "outputId": "9c874f8e-cc4a-4235-e9ce-1a8d541da9dd"
      },
      "source": [
        "Product_Holding_B1 = pd.DataFrame({'Product_Holding_B1':train['Product_Holding_B1'].value_counts(),\n",
        "              'Product_Holding_B1_%':(train['Product_Holding_B1'].value_counts(normalize=True)*100).round(2)})\n",
        "Product_Holding_B1.head(15)"
      ],
      "execution_count": 18,
      "outputs": [
        {
          "output_type": "execute_result",
          "data": {
            "text/html": [
              "<div>\n",
              "<style scoped>\n",
              "    .dataframe tbody tr th:only-of-type {\n",
              "        vertical-align: middle;\n",
              "    }\n",
              "\n",
              "    .dataframe tbody tr th {\n",
              "        vertical-align: top;\n",
              "    }\n",
              "\n",
              "    .dataframe thead th {\n",
              "        text-align: right;\n",
              "    }\n",
              "</style>\n",
              "<table border=\"1\" class=\"dataframe\">\n",
              "  <thead>\n",
              "    <tr style=\"text-align: right;\">\n",
              "      <th></th>\n",
              "      <th>Product_Holding_B1</th>\n",
              "      <th>Product_Holding_B1_%</th>\n",
              "    </tr>\n",
              "  </thead>\n",
              "  <tbody>\n",
              "    <tr>\n",
              "      <th>['P13']</th>\n",
              "      <td>7443</td>\n",
              "      <td>19.72</td>\n",
              "    </tr>\n",
              "    <tr>\n",
              "      <th>['P16']</th>\n",
              "      <td>4424</td>\n",
              "      <td>11.72</td>\n",
              "    </tr>\n",
              "    <tr>\n",
              "      <th>['P17']</th>\n",
              "      <td>2342</td>\n",
              "      <td>6.20</td>\n",
              "    </tr>\n",
              "    <tr>\n",
              "      <th>['P11']</th>\n",
              "      <td>1581</td>\n",
              "      <td>4.19</td>\n",
              "    </tr>\n",
              "    <tr>\n",
              "      <th>['P16', 'P21']</th>\n",
              "      <td>1270</td>\n",
              "      <td>3.36</td>\n",
              "    </tr>\n",
              "    <tr>\n",
              "      <th>['P13', 'P21']</th>\n",
              "      <td>1106</td>\n",
              "      <td>2.93</td>\n",
              "    </tr>\n",
              "    <tr>\n",
              "      <th>['P13', 'P17']</th>\n",
              "      <td>1093</td>\n",
              "      <td>2.90</td>\n",
              "    </tr>\n",
              "    <tr>\n",
              "      <th>['P8', 'P13']</th>\n",
              "      <td>1067</td>\n",
              "      <td>2.83</td>\n",
              "    </tr>\n",
              "    <tr>\n",
              "      <th>['P12', 'P13']</th>\n",
              "      <td>1043</td>\n",
              "      <td>2.76</td>\n",
              "    </tr>\n",
              "    <tr>\n",
              "      <th>['P12', 'P16']</th>\n",
              "      <td>1036</td>\n",
              "      <td>2.74</td>\n",
              "    </tr>\n",
              "    <tr>\n",
              "      <th>['P00']</th>\n",
              "      <td>1014</td>\n",
              "      <td>2.69</td>\n",
              "    </tr>\n",
              "    <tr>\n",
              "      <th>['P16', 'P17']</th>\n",
              "      <td>924</td>\n",
              "      <td>2.45</td>\n",
              "    </tr>\n",
              "    <tr>\n",
              "      <th>['P21']</th>\n",
              "      <td>767</td>\n",
              "      <td>2.03</td>\n",
              "    </tr>\n",
              "    <tr>\n",
              "      <th>['P2']</th>\n",
              "      <td>672</td>\n",
              "      <td>1.78</td>\n",
              "    </tr>\n",
              "    <tr>\n",
              "      <th>['P20']</th>\n",
              "      <td>670</td>\n",
              "      <td>1.77</td>\n",
              "    </tr>\n",
              "  </tbody>\n",
              "</table>\n",
              "</div>"
            ],
            "text/plain": [
              "                Product_Holding_B1  Product_Holding_B1_%\n",
              "['P13']                       7443                 19.72\n",
              "['P16']                       4424                 11.72\n",
              "['P17']                       2342                  6.20\n",
              "['P11']                       1581                  4.19\n",
              "['P16', 'P21']                1270                  3.36\n",
              "['P13', 'P21']                1106                  2.93\n",
              "['P13', 'P17']                1093                  2.90\n",
              "['P8', 'P13']                 1067                  2.83\n",
              "['P12', 'P13']                1043                  2.76\n",
              "['P12', 'P16']                1036                  2.74\n",
              "['P00']                       1014                  2.69\n",
              "['P16', 'P17']                 924                  2.45\n",
              "['P21']                        767                  2.03\n",
              "['P2']                         672                  1.78\n",
              "['P20']                        670                  1.77"
            ]
          },
          "metadata": {},
          "execution_count": 18
        }
      ]
    },
    {
      "cell_type": "markdown",
      "metadata": {
        "id": "cswjwcC92IZQ"
      },
      "source": [
        "\n",
        "Agora, veremos quais dos 22 produtos estão mais em uso no dataset. \n"
      ]
    },
    {
      "cell_type": "markdown",
      "metadata": {
        "id": "988zlyeI3RLo"
      },
      "source": [
        "* Contabilizando os produtos em uso"
      ]
    },
    {
      "cell_type": "code",
      "metadata": {
        "id": "hJf92y893Z5R"
      },
      "source": [
        "count_prod_atual_cod = []\n",
        "for p_cod in list_codigo_exclusivo_atual:\n",
        "  cont = 0\n",
        "  for p_hol in train['Product_Holding_B1']:\n",
        "    if p_cod in eval(p_hol):\n",
        "      cont = cont + 1\n",
        "  count_prod_atual_cod.append(cont)"
      ],
      "execution_count": 20,
      "outputs": []
    },
    {
      "cell_type": "markdown",
      "metadata": {
        "id": "zjtjdvKa4yDM"
      },
      "source": [
        "* Salvando em um data frame"
      ]
    },
    {
      "cell_type": "code",
      "metadata": {
        "colab": {
          "base_uri": "https://localhost:8080/",
          "height": 0
        },
        "id": "lKq_VXQB4Cfo",
        "outputId": "4a07bcc6-b10f-40b7-a9df-e914774b4a8b"
      },
      "source": [
        "dict_prod_atual_list = dict(zip(list_codigo_exclusivo_atual,count_prod_atual_cod))\n",
        "query_prod_atual = pd.DataFrame(dict_prod_atual_list,index = [0],columns = list_codigo_exclusivo_atual)\n",
        "query_prod_atual"
      ],
      "execution_count": 21,
      "outputs": [
        {
          "output_type": "execute_result",
          "data": {
            "text/html": [
              "<div>\n",
              "<style scoped>\n",
              "    .dataframe tbody tr th:only-of-type {\n",
              "        vertical-align: middle;\n",
              "    }\n",
              "\n",
              "    .dataframe tbody tr th {\n",
              "        vertical-align: top;\n",
              "    }\n",
              "\n",
              "    .dataframe thead th {\n",
              "        text-align: right;\n",
              "    }\n",
              "</style>\n",
              "<table border=\"1\" class=\"dataframe\">\n",
              "  <thead>\n",
              "    <tr style=\"text-align: right;\">\n",
              "      <th></th>\n",
              "      <th>P00</th>\n",
              "      <th>P1</th>\n",
              "      <th>P10</th>\n",
              "      <th>P11</th>\n",
              "      <th>P12</th>\n",
              "      <th>P13</th>\n",
              "      <th>P14</th>\n",
              "      <th>P15</th>\n",
              "      <th>P16</th>\n",
              "      <th>P17</th>\n",
              "      <th>P18</th>\n",
              "      <th>P19</th>\n",
              "      <th>P2</th>\n",
              "      <th>P20</th>\n",
              "      <th>P21</th>\n",
              "      <th>P3</th>\n",
              "      <th>P4</th>\n",
              "      <th>P5</th>\n",
              "      <th>P6</th>\n",
              "      <th>P7</th>\n",
              "      <th>P8</th>\n",
              "      <th>P9</th>\n",
              "    </tr>\n",
              "  </thead>\n",
              "  <tbody>\n",
              "    <tr>\n",
              "      <th>0</th>\n",
              "      <td>1014</td>\n",
              "      <td>12</td>\n",
              "      <td>1472</td>\n",
              "      <td>1920</td>\n",
              "      <td>6120</td>\n",
              "      <td>16870</td>\n",
              "      <td>129</td>\n",
              "      <td>540</td>\n",
              "      <td>11270</td>\n",
              "      <td>7205</td>\n",
              "      <td>338</td>\n",
              "      <td>2122</td>\n",
              "      <td>675</td>\n",
              "      <td>3708</td>\n",
              "      <td>6435</td>\n",
              "      <td>61</td>\n",
              "      <td>33</td>\n",
              "      <td>34</td>\n",
              "      <td>105</td>\n",
              "      <td>359</td>\n",
              "      <td>2695</td>\n",
              "      <td>460</td>\n",
              "    </tr>\n",
              "  </tbody>\n",
              "</table>\n",
              "</div>"
            ],
            "text/plain": [
              "    P00  P1   P10   P11   P12    P13  P14  ...  P3  P4  P5   P6   P7    P8   P9\n",
              "0  1014  12  1472  1920  6120  16870  129  ...  61  33  34  105  359  2695  460\n",
              "\n",
              "[1 rows x 22 columns]"
            ]
          },
          "metadata": {},
          "execution_count": 21
        }
      ]
    },
    {
      "cell_type": "markdown",
      "metadata": {
        "id": "p62LWyL945bz"
      },
      "source": [
        "* Visualizando "
      ]
    },
    {
      "cell_type": "code",
      "metadata": {
        "colab": {
          "base_uri": "https://localhost:8080/",
          "height": 0
        },
        "id": "N7XUctxl4ss3",
        "outputId": "33b2e3eb-9b8b-416f-c37d-a5946ab7a0a0"
      },
      "source": [
        "plt.figure(figsize=(12,8))\n",
        "sns.barplot(data=query_prod_atual.sort_values(by=0,axis=1,ascending=False),color = \"#2b8cbe\")\n",
        "plt.title('Count - Produto em uso', fontsize=20)\n",
        "plt.ylabel('Count')\n",
        "plt.show()"
      ],
      "execution_count": 22,
      "outputs": [
        {
          "output_type": "display_data",
          "data": {
            "image/png": "[encoded data removed]",
            "text/plain": [
              "<Figure size 864x576 with 1 Axes>"
            ]
          },
          "metadata": {
            "needs_background": "light"
          }
        }
      ]
    },
    {
      "cell_type": "markdown",
      "metadata": {
        "id": "FAvxc4J_yBuO"
      },
      "source": [
        "* A seguir veremos o top 15 produtos que mais influenciam na aquisição de outros produtos. "
      ]
    },
    {
      "cell_type": "code",
      "metadata": {
        "colab": {
          "base_uri": "https://localhost:8080/",
          "height": 0
        },
        "id": "Xq3Fj5Vqy51J",
        "outputId": "983fcdbb-5c3b-4caf-e924-eb4a5c04ca26"
      },
      "source": [
        "P_H_B1_AND_B2 = train.groupby('Product_Holding_B1')['Product_Holding_B2'].value_counts().sort_values(ascending=False).reset_index(name='Count')\n",
        "P_H_B1_AND_B2 = pd.DataFrame(P_H_B1_AND_B2)\n",
        "P_H_B1_AND_B2['Count_%']= round(P_H_B1_AND_B2.Count/sum(P_H_B1_AND_B2.Count) * 100,2)\n",
        "P_H_B1_AND_B2.head(15)"
      ],
      "execution_count": 51,
      "outputs": [
        {
          "output_type": "execute_result",
          "data": {
            "text/html": [
              "<div>\n",
              "<style scoped>\n",
              "    .dataframe tbody tr th:only-of-type {\n",
              "        vertical-align: middle;\n",
              "    }\n",
              "\n",
              "    .dataframe tbody tr th {\n",
              "        vertical-align: top;\n",
              "    }\n",
              "\n",
              "    .dataframe thead th {\n",
              "        text-align: right;\n",
              "    }\n",
              "</style>\n",
              "<table border=\"1\" class=\"dataframe\">\n",
              "  <thead>\n",
              "    <tr style=\"text-align: right;\">\n",
              "      <th></th>\n",
              "      <th>Product_Holding_B1</th>\n",
              "      <th>Product_Holding_B2</th>\n",
              "      <th>Count</th>\n",
              "      <th>Count_%</th>\n",
              "    </tr>\n",
              "  </thead>\n",
              "  <tbody>\n",
              "    <tr>\n",
              "      <th>0</th>\n",
              "      <td>['P13']</td>\n",
              "      <td>['P00']</td>\n",
              "      <td>2592</td>\n",
              "      <td>6.87</td>\n",
              "    </tr>\n",
              "    <tr>\n",
              "      <th>1</th>\n",
              "      <td>['P17']</td>\n",
              "      <td>['P16']</td>\n",
              "      <td>1968</td>\n",
              "      <td>5.21</td>\n",
              "    </tr>\n",
              "    <tr>\n",
              "      <th>2</th>\n",
              "      <td>['P16']</td>\n",
              "      <td>['P8']</td>\n",
              "      <td>1928</td>\n",
              "      <td>5.11</td>\n",
              "    </tr>\n",
              "    <tr>\n",
              "      <th>3</th>\n",
              "      <td>['P13']</td>\n",
              "      <td>['P8']</td>\n",
              "      <td>1859</td>\n",
              "      <td>4.92</td>\n",
              "    </tr>\n",
              "    <tr>\n",
              "      <th>4</th>\n",
              "      <td>['P11']</td>\n",
              "      <td>['P00']</td>\n",
              "      <td>1427</td>\n",
              "      <td>3.78</td>\n",
              "    </tr>\n",
              "    <tr>\n",
              "      <th>5</th>\n",
              "      <td>['P2']</td>\n",
              "      <td>['P00']</td>\n",
              "      <td>662</td>\n",
              "      <td>1.75</td>\n",
              "    </tr>\n",
              "    <tr>\n",
              "      <th>6</th>\n",
              "      <td>['P16', 'P21']</td>\n",
              "      <td>['P12']</td>\n",
              "      <td>618</td>\n",
              "      <td>1.64</td>\n",
              "    </tr>\n",
              "    <tr>\n",
              "      <th>7</th>\n",
              "      <td>['P16']</td>\n",
              "      <td>['P6']</td>\n",
              "      <td>576</td>\n",
              "      <td>1.53</td>\n",
              "    </tr>\n",
              "    <tr>\n",
              "      <th>8</th>\n",
              "      <td>['P16']</td>\n",
              "      <td>['P00']</td>\n",
              "      <td>576</td>\n",
              "      <td>1.53</td>\n",
              "    </tr>\n",
              "    <tr>\n",
              "      <th>9</th>\n",
              "      <td>['P13']</td>\n",
              "      <td>['P12']</td>\n",
              "      <td>570</td>\n",
              "      <td>1.51</td>\n",
              "    </tr>\n",
              "    <tr>\n",
              "      <th>10</th>\n",
              "      <td>['P13']</td>\n",
              "      <td>['P6']</td>\n",
              "      <td>567</td>\n",
              "      <td>1.50</td>\n",
              "    </tr>\n",
              "    <tr>\n",
              "      <th>11</th>\n",
              "      <td>['P16', 'P17']</td>\n",
              "      <td>['P12']</td>\n",
              "      <td>530</td>\n",
              "      <td>1.40</td>\n",
              "    </tr>\n",
              "    <tr>\n",
              "      <th>12</th>\n",
              "      <td>['P16']</td>\n",
              "      <td>['P12']</td>\n",
              "      <td>505</td>\n",
              "      <td>1.34</td>\n",
              "    </tr>\n",
              "    <tr>\n",
              "      <th>13</th>\n",
              "      <td>['P13']</td>\n",
              "      <td>['P9']</td>\n",
              "      <td>483</td>\n",
              "      <td>1.28</td>\n",
              "    </tr>\n",
              "    <tr>\n",
              "      <th>14</th>\n",
              "      <td>['P13']</td>\n",
              "      <td>['P3']</td>\n",
              "      <td>476</td>\n",
              "      <td>1.26</td>\n",
              "    </tr>\n",
              "  </tbody>\n",
              "</table>\n",
              "</div>"
            ],
            "text/plain": [
              "   Product_Holding_B1 Product_Holding_B2  Count  Count_%\n",
              "0             ['P13']            ['P00']   2592     6.87\n",
              "1             ['P17']            ['P16']   1968     5.21\n",
              "2             ['P16']             ['P8']   1928     5.11\n",
              "3             ['P13']             ['P8']   1859     4.92\n",
              "4             ['P11']            ['P00']   1427     3.78\n",
              "5              ['P2']            ['P00']    662     1.75\n",
              "6      ['P16', 'P21']            ['P12']    618     1.64\n",
              "7             ['P16']             ['P6']    576     1.53\n",
              "8             ['P16']            ['P00']    576     1.53\n",
              "9             ['P13']            ['P12']    570     1.51\n",
              "10            ['P13']             ['P6']    567     1.50\n",
              "11     ['P16', 'P17']            ['P12']    530     1.40\n",
              "12            ['P16']            ['P12']    505     1.34\n",
              "13            ['P13']             ['P9']    483     1.28\n",
              "14            ['P13']             ['P3']    476     1.26"
            ]
          },
          "metadata": {},
          "execution_count": 51
        }
      ]
    },
    {
      "cell_type": "markdown",
      "metadata": {
        "id": "TQKAsLxLMlKx"
      },
      "source": [
        "* O top 15 produtos da **Product_Holding_B2**\t- Coluna de Destino"
      ]
    },
    {
      "cell_type": "code",
      "metadata": {
        "colab": {
          "base_uri": "https://localhost:8080/",
          "height": 0
        },
        "id": "1nHmBkB7MlfR",
        "outputId": "ae29ca43-a368-44af-e79d-2e29410f13e5"
      },
      "source": [
        "Product_Holding_B2 = pd.DataFrame({'Product_Holding_B2':train['Product_Holding_B2'].value_counts(),\n",
        "              'Product_Holding_B2_%':(train['Product_Holding_B2'].value_counts(normalize=True)*100).round(2)})\n",
        "Product_Holding_B2.head(10)"
      ],
      "execution_count": 52,
      "outputs": [
        {
          "output_type": "execute_result",
          "data": {
            "text/html": [
              "<div>\n",
              "<style scoped>\n",
              "    .dataframe tbody tr th:only-of-type {\n",
              "        vertical-align: middle;\n",
              "    }\n",
              "\n",
              "    .dataframe tbody tr th {\n",
              "        vertical-align: top;\n",
              "    }\n",
              "\n",
              "    .dataframe thead th {\n",
              "        text-align: right;\n",
              "    }\n",
              "</style>\n",
              "<table border=\"1\" class=\"dataframe\">\n",
              "  <thead>\n",
              "    <tr style=\"text-align: right;\">\n",
              "      <th></th>\n",
              "      <th>Product_Holding_B2</th>\n",
              "      <th>Product_Holding_B2_%</th>\n",
              "    </tr>\n",
              "  </thead>\n",
              "  <tbody>\n",
              "    <tr>\n",
              "      <th>['P00']</th>\n",
              "      <td>5908</td>\n",
              "      <td>15.65</td>\n",
              "    </tr>\n",
              "    <tr>\n",
              "      <th>['P8']</th>\n",
              "      <td>5360</td>\n",
              "      <td>14.20</td>\n",
              "    </tr>\n",
              "    <tr>\n",
              "      <th>['P12']</th>\n",
              "      <td>3844</td>\n",
              "      <td>10.18</td>\n",
              "    </tr>\n",
              "    <tr>\n",
              "      <th>['P16']</th>\n",
              "      <td>3263</td>\n",
              "      <td>8.64</td>\n",
              "    </tr>\n",
              "    <tr>\n",
              "      <th>['P6']</th>\n",
              "      <td>2170</td>\n",
              "      <td>5.75</td>\n",
              "    </tr>\n",
              "    <tr>\n",
              "      <th>['P1']</th>\n",
              "      <td>1332</td>\n",
              "      <td>3.53</td>\n",
              "    </tr>\n",
              "    <tr>\n",
              "      <th>['P8', 'P12']</th>\n",
              "      <td>1244</td>\n",
              "      <td>3.30</td>\n",
              "    </tr>\n",
              "    <tr>\n",
              "      <th>['P13']</th>\n",
              "      <td>1117</td>\n",
              "      <td>2.96</td>\n",
              "    </tr>\n",
              "    <tr>\n",
              "      <th>['P10']</th>\n",
              "      <td>1069</td>\n",
              "      <td>2.83</td>\n",
              "    </tr>\n",
              "    <tr>\n",
              "      <th>['P3']</th>\n",
              "      <td>858</td>\n",
              "      <td>2.27</td>\n",
              "    </tr>\n",
              "  </tbody>\n",
              "</table>\n",
              "</div>"
            ],
            "text/plain": [
              "               Product_Holding_B2  Product_Holding_B2_%\n",
              "['P00']                      5908                 15.65\n",
              "['P8']                       5360                 14.20\n",
              "['P12']                      3844                 10.18\n",
              "['P16']                      3263                  8.64\n",
              "['P6']                       2170                  5.75\n",
              "['P1']                       1332                  3.53\n",
              "['P8', 'P12']                1244                  3.30\n",
              "['P13']                      1117                  2.96\n",
              "['P10']                      1069                  2.83\n",
              "['P3']                        858                  2.27"
            ]
          },
          "metadata": {},
          "execution_count": 52
        }
      ]
    },
    {
      "cell_type": "markdown",
      "metadata": {
        "id": "cgjWaXvQ72r7"
      },
      "source": [
        "* Lista com os códigos da coluna destino sem duplicação:"
      ]
    },
    {
      "cell_type": "code",
      "metadata": {
        "colab": {
          "base_uri": "https://localhost:8080/"
        },
        "id": "CcR3NtTwguef",
        "outputId": "0827f3e9-6bcd-4ba7-c57c-3da9aefc0525"
      },
      "source": [
        "list_codigo_exclusivo_prox_meses = []\n",
        "for i in train['Product_Holding_B2']:\n",
        "  list_codigo_exclusivo_prox_meses = list(set(list_codigo_exclusivo_prox_meses + eval(i))) # Lista cm a codificação sem duplicação: \n",
        "\n",
        "list_codigo_exclusivo_prox_meses.sort()\n",
        "print(list_codigo_exclusivo_prox_meses,'\\n \\n','São:',len(list_codigo_exclusivo_prox_meses),'produtos')"
      ],
      "execution_count": 53,
      "outputs": [
        {
          "output_type": "stream",
          "name": "stdout",
          "text": [
            "['P00', 'P1', 'P10', 'P11', 'P12', 'P13', 'P14', 'P15', 'P16', 'P17', 'P18', 'P2', 'P20', 'P3', 'P4', 'P5', 'P6', 'P7', 'P8', 'P9'] \n",
            " \n",
            " São: 20 produtos\n"
          ]
        }
      ]
    },
    {
      "cell_type": "markdown",
      "metadata": {
        "id": "YQC4XJQVN4AT"
      },
      "source": [
        "* Contabilizando os produtos codificados na variável destino"
      ]
    },
    {
      "cell_type": "code",
      "metadata": {
        "id": "BrFhgOtw8WQ4"
      },
      "source": [
        "count_p_cod = []\n",
        "for p_cod in list_codigo_exclusivo_atual:\n",
        "  cont = 0\n",
        "  for p_hol in train['Product_Holding_B2']:\n",
        "    if p_cod in eval(p_hol):\n",
        "      cont = cont + 1\n",
        "  count_p_cod.append(cont)"
      ],
      "execution_count": 54,
      "outputs": []
    },
    {
      "cell_type": "markdown",
      "metadata": {
        "id": "b9oPDc2DE05x"
      },
      "source": [
        "* Salvando no data frame"
      ]
    },
    {
      "cell_type": "code",
      "metadata": {
        "colab": {
          "base_uri": "https://localhost:8080/",
          "height": 0
        },
        "id": "PxSQW1owNYr3",
        "outputId": "54ab3096-f785-4096-b6e3-3df7938c779c"
      },
      "source": [
        "dict_from_list = dict(zip(list_codigo_exclusivo_atual,count_p_cod))\n",
        "query_prod_prox_meses = pd.DataFrame(dict_from_list,index = [0],columns = list_codigo_exclusivo_atual).sort_values(by=0,axis=1,ascending=False)\n",
        "query_prod_prox_meses"
      ],
      "execution_count": 56,
      "outputs": [
        {
          "output_type": "execute_result",
          "data": {
            "text/html": [
              "<div>\n",
              "<style scoped>\n",
              "    .dataframe tbody tr th:only-of-type {\n",
              "        vertical-align: middle;\n",
              "    }\n",
              "\n",
              "    .dataframe tbody tr th {\n",
              "        vertical-align: top;\n",
              "    }\n",
              "\n",
              "    .dataframe thead th {\n",
              "        text-align: right;\n",
              "    }\n",
              "</style>\n",
              "<table border=\"1\" class=\"dataframe\">\n",
              "  <thead>\n",
              "    <tr style=\"text-align: right;\">\n",
              "      <th></th>\n",
              "      <th>P8</th>\n",
              "      <th>P12</th>\n",
              "      <th>P00</th>\n",
              "      <th>P6</th>\n",
              "      <th>P16</th>\n",
              "      <th>P1</th>\n",
              "      <th>P4</th>\n",
              "      <th>P10</th>\n",
              "      <th>P7</th>\n",
              "      <th>P3</th>\n",
              "      <th>P9</th>\n",
              "      <th>P13</th>\n",
              "      <th>P5</th>\n",
              "      <th>P2</th>\n",
              "      <th>P11</th>\n",
              "      <th>P15</th>\n",
              "      <th>P14</th>\n",
              "      <th>P17</th>\n",
              "      <th>P20</th>\n",
              "      <th>P18</th>\n",
              "      <th>P21</th>\n",
              "      <th>P19</th>\n",
              "    </tr>\n",
              "  </thead>\n",
              "  <tbody>\n",
              "    <tr>\n",
              "      <th>0</th>\n",
              "      <td>11518</td>\n",
              "      <td>7285</td>\n",
              "      <td>5908</td>\n",
              "      <td>4675</td>\n",
              "      <td>3478</td>\n",
              "      <td>3310</td>\n",
              "      <td>2943</td>\n",
              "      <td>2914</td>\n",
              "      <td>2526</td>\n",
              "      <td>2486</td>\n",
              "      <td>1833</td>\n",
              "      <td>1494</td>\n",
              "      <td>1211</td>\n",
              "      <td>206</td>\n",
              "      <td>186</td>\n",
              "      <td>41</td>\n",
              "      <td>20</td>\n",
              "      <td>17</td>\n",
              "      <td>4</td>\n",
              "      <td>2</td>\n",
              "      <td>0</td>\n",
              "      <td>0</td>\n",
              "    </tr>\n",
              "  </tbody>\n",
              "</table>\n",
              "</div>"
            ],
            "text/plain": [
              "      P8   P12   P00    P6   P16    P1    P4  ...  P15  P14  P17  P20  P18  P21  P19\n",
              "0  11518  7285  5908  4675  3478  3310  2943  ...   41   20   17    4    2    0    0\n",
              "\n",
              "[1 rows x 22 columns]"
            ]
          },
          "metadata": {},
          "execution_count": 56
        }
      ]
    },
    {
      "cell_type": "markdown",
      "metadata": {
        "id": "WA9iprJiFFJ1"
      },
      "source": [
        "* Visualizando em gráfico de barra"
      ]
    },
    {
      "cell_type": "code",
      "metadata": {
        "colab": {
          "base_uri": "https://localhost:8080/",
          "height": 0
        },
        "id": "jRpFqSLV5NOU",
        "outputId": "b0b980a7-b700-49d8-d8d8-a94db2161e10"
      },
      "source": [
        "plt.figure(figsize=(12,8))\n",
        "sns.barplot(data=query_prod_prox_meses,color = \"#2b8cbe\")\n",
        "plt.title('Count - Produto em uso futuramente', fontsize=20)\n",
        "plt.ylabel('Count')\n",
        "plt.show()"
      ],
      "execution_count": 58,
      "outputs": [
        {
          "output_type": "display_data",
          "data": {
            "image/png": "[encoded data removed]",
            "text/plain": [
              "<Figure size 864x576 with 1 Axes>"
            ]
          },
          "metadata": {
            "needs_background": "light"
          }
        }
      ]
    },
    {
      "cell_type": "markdown",
      "metadata": {
        "id": "TreYElDK-O9u"
      },
      "source": [
        "### Pré-processamento e modelagem dos dados"
      ]
    },
    {
      "cell_type": "markdown",
      "metadata": {
        "id": "tEREJUsp_zfV"
      },
      "source": [
        "* Fazendo uma cópia do dataset train"
      ]
    },
    {
      "cell_type": "code",
      "metadata": {
        "id": "RfVxry0Q_6Ra"
      },
      "source": [
        "X = train.copy()"
      ],
      "execution_count": 59,
      "outputs": []
    },
    {
      "cell_type": "markdown",
      "metadata": {
        "id": "SDXGB4CcIj0V"
      },
      "source": [
        "* One-Hot na variável  **Product_Holding_B1**"
      ]
    },
    {
      "cell_type": "code",
      "metadata": {
        "id": "nDzi7N10-SFh"
      },
      "source": [
        "for p_cod in list_codigo_exclusivo_atual:\n",
        "  X_cod_p = []\n",
        "  for p_hol in train['Product_Holding_B1']:\n",
        "    if p_cod in eval(p_hol):\n",
        "      X_cod_p.append(1)\n",
        "    else:\n",
        "      X_cod_p.append(0)\n",
        "  X[p_cod] = X_cod_p "
      ],
      "execution_count": 60,
      "outputs": []
    },
    {
      "cell_type": "markdown",
      "metadata": {
        "id": "5qAIJyXrCjYJ"
      },
      "source": [
        "**Dividir dados**"
      ]
    },
    {
      "cell_type": "markdown",
      "metadata": {
        "id": "I4uksQ3v5BSN"
      },
      "source": [
        "* Separando a variável resposta das variáveis preditoras"
      ]
    },
    {
      "cell_type": "code",
      "metadata": {
        "id": "YdBzOsBOCfCO"
      },
      "source": [
        "X = train.drop(['Product_Holding_B2'],axis=1)\n",
        "y= train[[\"Product_Holding_B2\"]]\n",
        "test_Customer_ID = test['Customer_ID']"
      ],
      "execution_count": 61,
      "outputs": []
    },
    {
      "cell_type": "markdown",
      "metadata": {
        "id": "GbICTPXrRCzX"
      },
      "source": [
        "* One-Hot na variável **Product_Holding_B2**"
      ]
    },
    {
      "cell_type": "code",
      "metadata": {
        "id": "dC-RmT7JRIOf"
      },
      "source": [
        "for p_cod in list_codigo_exclusivo_prox_meses:\n",
        "  cod_p = []\n",
        "  for p_hol in y['Product_Holding_B2']:\n",
        "    if p_cod in eval(p_hol):\n",
        "      cod_p.append(1)\n",
        "    else:\n",
        "      cod_p.append(0)\n",
        "  y[p_cod] = cod_p "
      ],
      "execution_count": null,
      "outputs": []
    },
    {
      "cell_type": "code",
      "metadata": {
        "id": "-hq00VL0SfhS"
      },
      "source": [
        "y = y.drop('Product_Holding_B2',axis=1)"
      ],
      "execution_count": 64,
      "outputs": []
    },
    {
      "cell_type": "markdown",
      "metadata": {
        "id": "iG4O2m5y6RkM"
      },
      "source": [
        "* Concatenando o dataset X com o dataset test"
      ]
    },
    {
      "cell_type": "code",
      "metadata": {
        "id": "3MVuWS8DCro6"
      },
      "source": [
        "All_data = pd.concat([X, test], axis=0)"
      ],
      "execution_count": 65,
      "outputs": []
    },
    {
      "cell_type": "markdown",
      "metadata": {
        "id": "NKozWvX9L7tt"
      },
      "source": [
        "* One-Hot na variável **Product_Holding_B1**"
      ]
    },
    {
      "cell_type": "code",
      "metadata": {
        "id": "wUu_lko0NMTR"
      },
      "source": [
        "for p_cod in list_codigo_exclusivo_atual:\n",
        "  cols_cod_p = []\n",
        "  for p_hol in All_data['Product_Holding_B1']:\n",
        "    if p_cod in eval(p_hol):\n",
        "      cols_cod_p.append(1)\n",
        "    else:\n",
        "      cols_cod_p.append(0)\n",
        "  All_data[p_cod] = cols_cod_p "
      ],
      "execution_count": 66,
      "outputs": []
    },
    {
      "cell_type": "markdown",
      "metadata": {
        "id": "vb_5ab2jNq8t"
      },
      "source": [
        "* Eliminado as variáveis **Customer_ID** e **Product_Holding_B1**"
      ]
    },
    {
      "cell_type": "code",
      "metadata": {
        "id": "xuOdr0JPN1aV"
      },
      "source": [
        "All_data.drop(['Customer_ID','Product_Holding_B1'],axis=1,inplace=True)"
      ],
      "execution_count": 67,
      "outputs": []
    },
    {
      "cell_type": "markdown",
      "metadata": {
        "id": "Yt1kRWHEOVfx"
      },
      "source": [
        "* Listando os índices das variáveis categóricas"
      ]
    },
    {
      "cell_type": "code",
      "metadata": {
        "colab": {
          "base_uri": "https://localhost:8080/"
        },
        "id": "SE-4ocv5OYLv",
        "outputId": "de5a2685-3b12-4c21-fbad-794ecd8d5b40"
      },
      "source": [
        "cat_cols=All_data.select_dtypes(\"object\").columns.tolist()\n",
        "cat_cols"
      ],
      "execution_count": 68,
      "outputs": [
        {
          "output_type": "execute_result",
          "data": {
            "text/plain": [
              "['Gender', 'City_Category', 'Customer_Category']"
            ]
          },
          "metadata": {},
          "execution_count": 68
        }
      ]
    },
    {
      "cell_type": "markdown",
      "metadata": {
        "id": "rz-3ugZQ6eK_"
      },
      "source": [
        "* Criando variáveis fictícias para as variáveis categóricas"
      ]
    },
    {
      "cell_type": "code",
      "metadata": {
        "id": "8FymB71kC0Au"
      },
      "source": [
        "all_data = pd.get_dummies(All_data, columns=cat_cols)"
      ],
      "execution_count": 69,
      "outputs": []
    },
    {
      "cell_type": "markdown",
      "metadata": {
        "id": "_nqsXahHQUWs"
      },
      "source": [
        "* Uma visão geral das estatísticas:"
      ]
    },
    {
      "cell_type": "code",
      "metadata": {
        "colab": {
          "base_uri": "https://localhost:8080/",
          "height": 0
        },
        "id": "1Av-7frxOnSG",
        "outputId": "9e930e1b-11f9-4cbe-c50b-c6920b179e53"
      },
      "source": [
        "df_stats = all_data.describe().transpose()\n",
        "df_stats.head(5)"
      ],
      "execution_count": 70,
      "outputs": [
        {
          "output_type": "execute_result",
          "data": {
            "text/html": [
              "<div>\n",
              "<style scoped>\n",
              "    .dataframe tbody tr th:only-of-type {\n",
              "        vertical-align: middle;\n",
              "    }\n",
              "\n",
              "    .dataframe tbody tr th {\n",
              "        vertical-align: top;\n",
              "    }\n",
              "\n",
              "    .dataframe thead th {\n",
              "        text-align: right;\n",
              "    }\n",
              "</style>\n",
              "<table border=\"1\" class=\"dataframe\">\n",
              "  <thead>\n",
              "    <tr style=\"text-align: right;\">\n",
              "      <th></th>\n",
              "      <th>count</th>\n",
              "      <th>mean</th>\n",
              "      <th>std</th>\n",
              "      <th>min</th>\n",
              "      <th>25%</th>\n",
              "      <th>50%</th>\n",
              "      <th>75%</th>\n",
              "      <th>max</th>\n",
              "    </tr>\n",
              "  </thead>\n",
              "  <tbody>\n",
              "    <tr>\n",
              "      <th>Age</th>\n",
              "      <td>58075.0</td>\n",
              "      <td>38.460146</td>\n",
              "      <td>10.111050</td>\n",
              "      <td>24.0</td>\n",
              "      <td>29.0</td>\n",
              "      <td>37.0</td>\n",
              "      <td>47.0</td>\n",
              "      <td>59.0</td>\n",
              "    </tr>\n",
              "    <tr>\n",
              "      <th>Vintage</th>\n",
              "      <td>58075.0</td>\n",
              "      <td>19.585674</td>\n",
              "      <td>10.252426</td>\n",
              "      <td>2.0</td>\n",
              "      <td>13.0</td>\n",
              "      <td>16.0</td>\n",
              "      <td>23.0</td>\n",
              "      <td>80.0</td>\n",
              "    </tr>\n",
              "    <tr>\n",
              "      <th>Is_Active</th>\n",
              "      <td>58075.0</td>\n",
              "      <td>0.264572</td>\n",
              "      <td>0.441109</td>\n",
              "      <td>0.0</td>\n",
              "      <td>0.0</td>\n",
              "      <td>0.0</td>\n",
              "      <td>1.0</td>\n",
              "      <td>1.0</td>\n",
              "    </tr>\n",
              "    <tr>\n",
              "      <th>P00</th>\n",
              "      <td>58075.0</td>\n",
              "      <td>0.026001</td>\n",
              "      <td>0.159139</td>\n",
              "      <td>0.0</td>\n",
              "      <td>0.0</td>\n",
              "      <td>0.0</td>\n",
              "      <td>0.0</td>\n",
              "      <td>1.0</td>\n",
              "    </tr>\n",
              "    <tr>\n",
              "      <th>P1</th>\n",
              "      <td>58075.0</td>\n",
              "      <td>0.000258</td>\n",
              "      <td>0.016069</td>\n",
              "      <td>0.0</td>\n",
              "      <td>0.0</td>\n",
              "      <td>0.0</td>\n",
              "      <td>0.0</td>\n",
              "      <td>1.0</td>\n",
              "    </tr>\n",
              "  </tbody>\n",
              "</table>\n",
              "</div>"
            ],
            "text/plain": [
              "             count       mean        std   min   25%   50%   75%   max\n",
              "Age        58075.0  38.460146  10.111050  24.0  29.0  37.0  47.0  59.0\n",
              "Vintage    58075.0  19.585674  10.252426   2.0  13.0  16.0  23.0  80.0\n",
              "Is_Active  58075.0   0.264572   0.441109   0.0   0.0   0.0   1.0   1.0\n",
              "P00        58075.0   0.026001   0.159139   0.0   0.0   0.0   0.0   1.0\n",
              "P1         58075.0   0.000258   0.016069   0.0   0.0   0.0   0.0   1.0"
            ]
          },
          "metadata": {},
          "execution_count": 70
        }
      ]
    },
    {
      "cell_type": "markdown",
      "metadata": {
        "id": "jMfpnlXvQyiU"
      },
      "source": [
        "* Normalizando os dados"
      ]
    },
    {
      "cell_type": "code",
      "metadata": {
        "id": "y0LiGXJ4QQCo"
      },
      "source": [
        "def norm(x):\n",
        "  return (x - df_stats['mean']) / df_stats['std']\n",
        "\n",
        "all_data = norm(all_data)"
      ],
      "execution_count": 71,
      "outputs": []
    },
    {
      "cell_type": "markdown",
      "metadata": {
        "id": "z6b55uZrHDdw"
      },
      "source": [
        "* Separando os datasets  "
      ]
    },
    {
      "cell_type": "code",
      "metadata": {
        "id": "SMev_3luC0O9"
      },
      "source": [
        "X = all_data[:len(X)]\n",
        "test = all_data[len(X):]"
      ],
      "execution_count": 72,
      "outputs": []
    },
    {
      "cell_type": "code",
      "metadata": {
        "colab": {
          "base_uri": "https://localhost:8080/"
        },
        "id": "bdnQDddIC41J",
        "outputId": "22ce3053-765c-4b10-b0e9-cb57f04139fd"
      },
      "source": [
        "X.shape, test.shape"
      ],
      "execution_count": 73,
      "outputs": [
        {
          "output_type": "execute_result",
          "data": {
            "text/plain": [
              "((37748, 32), (20327, 32))"
            ]
          },
          "metadata": {},
          "execution_count": 73
        }
      ]
    },
    {
      "cell_type": "markdown",
      "metadata": {
        "id": "Y0pZzbiy_WHz"
      },
      "source": [
        "* Dividindo o dataset de treinamento e validação"
      ]
    },
    {
      "cell_type": "code",
      "metadata": {
        "id": "e0RovMkVVJnU"
      },
      "source": [
        "from sklearn.model_selection import train_test_split"
      ],
      "execution_count": 74,
      "outputs": []
    },
    {
      "cell_type": "code",
      "metadata": {
        "id": "CaJcFVq_Ta_X"
      },
      "source": [
        "def train_test_split_yi(X,y):\n",
        "  Xtrain, Xval, ytrain, yval = train_test_split(X, y, random_state=0, train_size=0.75, stratify=y)\n",
        "  return Xtrain, Xval, ytrain, yval"
      ],
      "execution_count": 75,
      "outputs": []
    },
    {
      "cell_type": "markdown",
      "metadata": {
        "id": "rKA4Atfq8Q6w"
      },
      "source": [
        "### Modelo  de classificação -  Regressão Logística "
      ]
    },
    {
      "cell_type": "markdown",
      "metadata": {
        "id": "sW5oES_Q5zKT"
      },
      "source": [
        "**Usaremos as seguintes métricas de avaliação:**\n",
        "\n",
        "1. Recall\n",
        "2. Precision \n",
        "3. ROC - AUC : Área sob a curva característica de operação do receptor. Ou seja,  é a área sob a curva ao traçar a taxa de verdadeiro positivo (normalizada) (eixo x) e a taxa de falso positivo (eixo y).\n",
        "\n",
        "*Nossa métrica principal aqui será os valores de Recall, enquanto o AUC ROC Score cuidará de quão bem as probabilidades previstas são capazes de diferenciar entre as 2 classes.*"
      ]
    },
    {
      "cell_type": "markdown",
      "metadata": {
        "id": "VnBPuhdD5Hfi"
      },
      "source": [
        "* importando os pacotes do modelo e das métricas que serão utilizadas \n"
      ]
    },
    {
      "cell_type": "code",
      "metadata": {
        "id": "3B0GurWv5qLy"
      },
      "source": [
        "from sklearn.linear_model import LogisticRegression\n",
        "from sklearn.metrics import accuracy_score,  roc_curve, roc_auc_score, recall_score,precision_score"
      ],
      "execution_count": 241,
      "outputs": []
    },
    {
      "cell_type": "markdown",
      "metadata": {
        "id": "ZseKPQYQXxhM"
      },
      "source": [
        "* Treinando o medelo de regressão logística para cada produto "
      ]
    },
    {
      "cell_type": "code",
      "metadata": {
        "id": "f3PP7ACX6OAi"
      },
      "source": [
        "regressao_logistica = []\n",
        "score = []\n",
        "recall_list = []\n",
        "precision_list = []\n",
        "roc_auc_score_list = []\n",
        "fpr_list = []\n",
        "tpr_list = []\n",
        "for p_cod in list_codigo_exclusivo_prox_meses:\n",
        "  Xtrain, Xval, ytrain, yval = train_test_split_yi(X,y[p_cod])\n",
        "  reg_log  = LogisticRegression().fit(Xtrain, ytrain)\n",
        "  regressao_logistica.append(reg_log)\n",
        "  score.append(reg_log.score(Xval,yval))\n",
        "  pred_val = reg_log.predict(Xval)\n",
        "  recall_list.append(recall_score(yval,pred_val)) \n",
        "  precision_list.append(precision_score(yval,pred_val))\n",
        "  if p_cod == 'P18':\n",
        "    roc_auc_score_list.append(1)\n",
        "  else:\n",
        "    roc_auc_score_list.append(roc_auc_score(yval,reg_log.predict_proba(Xval)[:,1]))\n",
        "  fpr, tpr, _ = roc_curve(yval,reg_log.predict_proba(Xval)[:,1])\n",
        "  fpr_list.append(fpr)\n",
        "  tpr_list.append(tpr)\n",
        "\n"
      ],
      "execution_count": null,
      "outputs": []
    },
    {
      "cell_type": "code",
      "metadata": {
        "colab": {
          "base_uri": "https://localhost:8080/",
          "height": 195
        },
        "id": "c1q09nZznBSP",
        "outputId": "207e9f21-7bbe-474f-c505-2faee7065d68"
      },
      "source": [
        "df_metrics = pd.DataFrame({'score': score, \n",
        "                           'recall_score': recall_list,\n",
        "                           'precision_score':precision_list,\n",
        "                           'roc_auc_score':roc_auc_score_list},\n",
        "                          index = list_codigo_exclusivo_prox_meses).transpose()\n",
        "df_metrics"
      ],
      "execution_count": 206,
      "outputs": [
        {
          "output_type": "execute_result",
          "data": {
            "text/html": [
              "<div>\n",
              "<style scoped>\n",
              "    .dataframe tbody tr th:only-of-type {\n",
              "        vertical-align: middle;\n",
              "    }\n",
              "\n",
              "    .dataframe tbody tr th {\n",
              "        vertical-align: top;\n",
              "    }\n",
              "\n",
              "    .dataframe thead th {\n",
              "        text-align: right;\n",
              "    }\n",
              "</style>\n",
              "<table border=\"1\" class=\"dataframe\">\n",
              "  <thead>\n",
              "    <tr style=\"text-align: right;\">\n",
              "      <th></th>\n",
              "      <th>P00</th>\n",
              "      <th>P1</th>\n",
              "      <th>P10</th>\n",
              "      <th>P11</th>\n",
              "      <th>P12</th>\n",
              "      <th>P13</th>\n",
              "      <th>P14</th>\n",
              "      <th>P15</th>\n",
              "      <th>P16</th>\n",
              "      <th>P17</th>\n",
              "      <th>P18</th>\n",
              "      <th>P2</th>\n",
              "      <th>P20</th>\n",
              "      <th>P3</th>\n",
              "      <th>P4</th>\n",
              "      <th>P5</th>\n",
              "      <th>P6</th>\n",
              "      <th>P7</th>\n",
              "      <th>P8</th>\n",
              "      <th>P9</th>\n",
              "    </tr>\n",
              "  </thead>\n",
              "  <tbody>\n",
              "    <tr>\n",
              "      <th>score</th>\n",
              "      <td>0.900710</td>\n",
              "      <td>0.920314</td>\n",
              "      <td>0.925188</td>\n",
              "      <td>0.995973</td>\n",
              "      <td>0.907492</td>\n",
              "      <td>0.975416</td>\n",
              "      <td>0.999470</td>\n",
              "      <td>0.998940</td>\n",
              "      <td>0.970224</td>\n",
              "      <td>0.999576</td>\n",
              "      <td>1.0</td>\n",
              "      <td>0.995232</td>\n",
              "      <td>0.999894</td>\n",
              "      <td>0.934513</td>\n",
              "      <td>0.926354</td>\n",
              "      <td>0.968316</td>\n",
              "      <td>0.899862</td>\n",
              "      <td>0.938646</td>\n",
              "      <td>0.759140</td>\n",
              "      <td>0.951468</td>\n",
              "    </tr>\n",
              "    <tr>\n",
              "      <th>recall_score</th>\n",
              "      <td>0.477319</td>\n",
              "      <td>0.229746</td>\n",
              "      <td>0.189560</td>\n",
              "      <td>0.326087</td>\n",
              "      <td>0.740802</td>\n",
              "      <td>0.482574</td>\n",
              "      <td>0.000000</td>\n",
              "      <td>0.000000</td>\n",
              "      <td>0.894131</td>\n",
              "      <td>0.000000</td>\n",
              "      <td>0.0</td>\n",
              "      <td>0.313725</td>\n",
              "      <td>0.000000</td>\n",
              "      <td>0.064412</td>\n",
              "      <td>0.202446</td>\n",
              "      <td>0.092409</td>\n",
              "      <td>0.358426</td>\n",
              "      <td>0.202853</td>\n",
              "      <td>0.410907</td>\n",
              "      <td>0.072052</td>\n",
              "    </tr>\n",
              "    <tr>\n",
              "      <th>precision_score</th>\n",
              "      <td>0.810345</td>\n",
              "      <td>0.622951</td>\n",
              "      <td>0.543307</td>\n",
              "      <td>0.681818</td>\n",
              "      <td>0.770857</td>\n",
              "      <td>0.821918</td>\n",
              "      <td>0.000000</td>\n",
              "      <td>0.000000</td>\n",
              "      <td>0.804348</td>\n",
              "      <td>0.000000</td>\n",
              "      <td>0.0</td>\n",
              "      <td>0.615385</td>\n",
              "      <td>0.000000</td>\n",
              "      <td>0.519481</td>\n",
              "      <td>0.579767</td>\n",
              "      <td>0.538462</td>\n",
              "      <td>0.682410</td>\n",
              "      <td>0.627451</td>\n",
              "      <td>0.672159</td>\n",
              "      <td>0.500000</td>\n",
              "    </tr>\n",
              "    <tr>\n",
              "      <th>roc_auc_score</th>\n",
              "      <td>0.932398</td>\n",
              "      <td>0.885860</td>\n",
              "      <td>0.881566</td>\n",
              "      <td>0.989340</td>\n",
              "      <td>0.938320</td>\n",
              "      <td>0.979900</td>\n",
              "      <td>0.941137</td>\n",
              "      <td>0.963414</td>\n",
              "      <td>0.991600</td>\n",
              "      <td>0.988339</td>\n",
              "      <td>1.0</td>\n",
              "      <td>0.975713</td>\n",
              "      <td>0.994913</td>\n",
              "      <td>0.826058</td>\n",
              "      <td>0.874005</td>\n",
              "      <td>0.852457</td>\n",
              "      <td>0.825916</td>\n",
              "      <td>0.877551</td>\n",
              "      <td>0.797583</td>\n",
              "      <td>0.831669</td>\n",
              "    </tr>\n",
              "  </tbody>\n",
              "</table>\n",
              "</div>"
            ],
            "text/plain": [
              "                      P00        P1       P10  ...        P7        P8        P9\n",
              "score            0.900710  0.920314  0.925188  ...  0.938646  0.759140  0.951468\n",
              "recall_score     0.477319  0.229746  0.189560  ...  0.202853  0.410907  0.072052\n",
              "precision_score  0.810345  0.622951  0.543307  ...  0.627451  0.672159  0.500000\n",
              "roc_auc_score    0.932398  0.885860  0.881566  ...  0.877551  0.797583  0.831669\n",
              "\n",
              "[4 rows x 20 columns]"
            ]
          },
          "metadata": {},
          "execution_count": 206
        }
      ]
    },
    {
      "cell_type": "markdown",
      "metadata": {
        "id": "39fMAeUkKWJ2"
      },
      "source": [
        "#### Curva AUC ROC \n",
        "Agora, vamos visualizar a curva AUC-ROC para cada modelo/produto de regressão logística"
      ]
    },
    {
      "cell_type": "code",
      "metadata": {
        "id": "5Ce6IiEqviNa"
      },
      "source": [
        "def plot_roc_auc(fpr,tpr,auc,prod): \n",
        "  ax = plt.plot(fpr,tpr,label=prod + \": Validação AUC-ROC=\"+str(round(auc,2))) \n",
        "  x = np.linspace(0, 1, 1000)\n",
        "  plt.plot(x, x, linestyle='-')\n",
        "  plt.xlabel('Taxa de falso positivo') \n",
        "  plt.ylabel('Taxa de verdadeiro positivo') \n",
        "  plt.legend(loc=4) \n",
        "  return ax"
      ],
      "execution_count": 231,
      "outputs": []
    },
    {
      "cell_type": "code",
      "metadata": {
        "colab": {
          "base_uri": "https://localhost:8080/",
          "height": 405
        },
        "id": "TZoZckdAyyfN",
        "outputId": "fbb2b488-ef09-496a-d434-1f80c31aa912"
      },
      "source": [
        "plt.figure(figsize=(20,8))\n",
        "plt.subplot(221),plot_roc_auc(fpr_list[0],tpr_list[0],roc_auc_score_list[0],y.columns[0])\n",
        "plt.subplot(222),plot_roc_auc(fpr_list[1],tpr_list[1],roc_auc_score_list[1],y.columns[1])\n",
        "plt.subplot(223),plot_roc_auc(fpr_list[2],tpr_list[2],roc_auc_score_list[2],y.columns[2])\n",
        "plt.subplot(224),plot_roc_auc(fpr_list[3],tpr_list[3],roc_auc_score_list[3],y.columns[3])\n",
        "plt.show()"
      ],
      "execution_count": 232,
      "outputs": [
        {
          "output_type": "display_data",
          "data": {
            "image/png": "[encoded data removed]",
            "text/plain": [
              "<Figure size 1440x576 with 4 Axes>"
            ]
          },
          "metadata": {
            "needs_background": "light"
          }
        }
      ]
    },
    {
      "cell_type": "code",
      "metadata": {
        "colab": {
          "base_uri": "https://localhost:8080/",
          "height": 405
        },
        "id": "WhUwueiIqFqh",
        "outputId": "a009e16e-3cb1-49ab-db9c-9773f65aee85"
      },
      "source": [
        "plt.figure(figsize=(20,8))\n",
        "plt.subplot(221),plot_roc_auc(fpr_list[4],tpr_list[4],roc_auc_score_list[4],y.columns[4])\n",
        "plt.subplot(222),plot_roc_auc(fpr_list[5],tpr_list[5],roc_auc_score_list[5],y.columns[5])\n",
        "plt.subplot(223),plot_roc_auc(fpr_list[6],tpr_list[6],roc_auc_score_list[6],y.columns[6])\n",
        "plt.subplot(224),plot_roc_auc(fpr_list[7],tpr_list[7],roc_auc_score_list[7],y.columns[7])\n",
        "plt.show()"
      ],
      "execution_count": 233,
      "outputs": [
        {
          "output_type": "display_data",
          "data": {
            "image/png": "[encoded data removed]",
            "text/plain": [
              "<Figure size 1440x576 with 4 Axes>"
            ]
          },
          "metadata": {
            "needs_background": "light"
          }
        }
      ]
    },
    {
      "cell_type": "code",
      "metadata": {
        "colab": {
          "base_uri": "https://localhost:8080/",
          "height": 405
        },
        "id": "Zzf87VDbKU1Y",
        "outputId": "32a31d2e-f7f1-4618-9354-ab06820cde1c"
      },
      "source": [
        "plt.figure(figsize=(20,8))\n",
        "plt.subplot(221),plot_roc_auc(fpr_list[8],tpr_list[8],roc_auc_score_list[8],y.columns[8])\n",
        "plt.subplot(222),plot_roc_auc(fpr_list[9],tpr_list[9],roc_auc_score_list[9],y.columns[9])\n",
        "plt.subplot(223),plot_roc_auc(fpr_list[10],tpr_list[10],roc_auc_score_list[10],y.columns[10])\n",
        "plt.subplot(224),plot_roc_auc(fpr_list[11],tpr_list[11],roc_auc_score_list[11],y.columns[11])\n",
        "plt.show()"
      ],
      "execution_count": 234,
      "outputs": [
        {
          "output_type": "display_data",
          "data": {
            "image/png": "[encoded data removed]",
            "text/plain": [
              "<Figure size 1440x576 with 4 Axes>"
            ]
          },
          "metadata": {
            "needs_background": "light"
          }
        }
      ]
    },
    {
      "cell_type": "code",
      "metadata": {
        "colab": {
          "base_uri": "https://localhost:8080/",
          "height": 405
        },
        "id": "IMAzWKvJQQ0G",
        "outputId": "9a661ef4-a0e5-42fc-aeb2-d54803fd6d6d"
      },
      "source": [
        "plt.figure(figsize=(20,8))\n",
        "plt.subplot(221),plot_roc_auc(fpr_list[12],tpr_list[12],roc_auc_score_list[12],y.columns[12])\n",
        "plt.subplot(222),plot_roc_auc(fpr_list[13],tpr_list[13],roc_auc_score_list[13],y.columns[13])\n",
        "plt.subplot(223),plot_roc_auc(fpr_list[14],tpr_list[14],roc_auc_score_list[14],y.columns[14])\n",
        "plt.subplot(224),plot_roc_auc(fpr_list[15],tpr_list[15],roc_auc_score_list[15],y.columns[15])\n",
        "plt.show()"
      ],
      "execution_count": 235,
      "outputs": [
        {
          "output_type": "display_data",
          "data": {
            "image/png": "[encoded data removed]",
            "text/plain": [
              "<Figure size 1440x576 with 4 Axes>"
            ]
          },
          "metadata": {
            "needs_background": "light"
          }
        }
      ]
    },
    {
      "cell_type": "code",
      "metadata": {
        "colab": {
          "base_uri": "https://localhost:8080/",
          "height": 405
        },
        "id": "nUsP6_Ob3k_e",
        "outputId": "66b2c84b-5298-44ba-f37c-b725e9a7e305"
      },
      "source": [
        "plt.figure(figsize=(20,8))\n",
        "plt.subplot(221),plot_roc_auc(fpr_list[16],tpr_list[16],roc_auc_score_list[16],y.columns[16])\n",
        "plt.subplot(222),plot_roc_auc(fpr_list[17],tpr_list[17],roc_auc_score_list[17],y.columns[17])\n",
        "plt.subplot(223),plot_roc_auc(fpr_list[18],tpr_list[18],roc_auc_score_list[18],y.columns[18])\n",
        "plt.subplot(224),plot_roc_auc(fpr_list[19],tpr_list[19],roc_auc_score_list[19],y.columns[19])\n",
        "plt.show()"
      ],
      "execution_count": 236,
      "outputs": [
        {
          "output_type": "display_data",
          "data": {
            "image/png": "[encoded data removed]",
            "text/plain": [
              "<Figure size 1440x576 with 4 Axes>"
            ]
          },
          "metadata": {
            "needs_background": "light"
          }
        }
      ]
    },
    {
      "cell_type": "markdown",
      "metadata": {
        "id": "jSty63h2K7w2"
      },
      "source": [
        "### Previsão e apresentação"
      ]
    },
    {
      "cell_type": "markdown",
      "metadata": {
        "id": "gRrN5MCOUmAt"
      },
      "source": [
        "* Prevendo os produtos que os clientes do conjunto de dados test (conjunto de dados sem rótulo, ou seja, sem a variável resposta) estão propensos a usarem "
      ]
    },
    {
      "cell_type": "code",
      "metadata": {
        "id": "OLRTQCs37LAC"
      },
      "source": [
        "y_pred_test = pd.DataFrame(regressao_logistica[0].predict(test),columns=['P00'])\n",
        "for i,p_cod in enumerate(y.columns[1:]):\n",
        "  y_pred_test[p_cod] = regressao_logistica[i+1].predict(test)"
      ],
      "execution_count": 242,
      "outputs": []
    },
    {
      "cell_type": "code",
      "metadata": {
        "colab": {
          "base_uri": "https://localhost:8080/",
          "height": 206
        },
        "id": "8P9PebzcPvrd",
        "outputId": "7928616b-3f84-4701-8057-70a9d51b4911"
      },
      "source": [
        "y_pred_test.head()"
      ],
      "execution_count": 243,
      "outputs": [
        {
          "output_type": "execute_result",
          "data": {
            "text/html": [
              "<div>\n",
              "<style scoped>\n",
              "    .dataframe tbody tr th:only-of-type {\n",
              "        vertical-align: middle;\n",
              "    }\n",
              "\n",
              "    .dataframe tbody tr th {\n",
              "        vertical-align: top;\n",
              "    }\n",
              "\n",
              "    .dataframe thead th {\n",
              "        text-align: right;\n",
              "    }\n",
              "</style>\n",
              "<table border=\"1\" class=\"dataframe\">\n",
              "  <thead>\n",
              "    <tr style=\"text-align: right;\">\n",
              "      <th></th>\n",
              "      <th>P00</th>\n",
              "      <th>P1</th>\n",
              "      <th>P10</th>\n",
              "      <th>P11</th>\n",
              "      <th>P12</th>\n",
              "      <th>P13</th>\n",
              "      <th>P14</th>\n",
              "      <th>P15</th>\n",
              "      <th>P16</th>\n",
              "      <th>P17</th>\n",
              "      <th>P18</th>\n",
              "      <th>P2</th>\n",
              "      <th>P20</th>\n",
              "      <th>P3</th>\n",
              "      <th>P4</th>\n",
              "      <th>P5</th>\n",
              "      <th>P6</th>\n",
              "      <th>P7</th>\n",
              "      <th>P8</th>\n",
              "      <th>P9</th>\n",
              "    </tr>\n",
              "  </thead>\n",
              "  <tbody>\n",
              "    <tr>\n",
              "      <th>0</th>\n",
              "      <td>0</td>\n",
              "      <td>0</td>\n",
              "      <td>0</td>\n",
              "      <td>0</td>\n",
              "      <td>0</td>\n",
              "      <td>0</td>\n",
              "      <td>0</td>\n",
              "      <td>0</td>\n",
              "      <td>0</td>\n",
              "      <td>0</td>\n",
              "      <td>0</td>\n",
              "      <td>0</td>\n",
              "      <td>0</td>\n",
              "      <td>0</td>\n",
              "      <td>0</td>\n",
              "      <td>0</td>\n",
              "      <td>0</td>\n",
              "      <td>0</td>\n",
              "      <td>1</td>\n",
              "      <td>0</td>\n",
              "    </tr>\n",
              "    <tr>\n",
              "      <th>1</th>\n",
              "      <td>0</td>\n",
              "      <td>0</td>\n",
              "      <td>0</td>\n",
              "      <td>0</td>\n",
              "      <td>0</td>\n",
              "      <td>0</td>\n",
              "      <td>0</td>\n",
              "      <td>0</td>\n",
              "      <td>0</td>\n",
              "      <td>0</td>\n",
              "      <td>0</td>\n",
              "      <td>0</td>\n",
              "      <td>0</td>\n",
              "      <td>0</td>\n",
              "      <td>0</td>\n",
              "      <td>0</td>\n",
              "      <td>0</td>\n",
              "      <td>0</td>\n",
              "      <td>0</td>\n",
              "      <td>0</td>\n",
              "    </tr>\n",
              "    <tr>\n",
              "      <th>2</th>\n",
              "      <td>0</td>\n",
              "      <td>0</td>\n",
              "      <td>0</td>\n",
              "      <td>0</td>\n",
              "      <td>0</td>\n",
              "      <td>0</td>\n",
              "      <td>0</td>\n",
              "      <td>0</td>\n",
              "      <td>1</td>\n",
              "      <td>0</td>\n",
              "      <td>0</td>\n",
              "      <td>0</td>\n",
              "      <td>0</td>\n",
              "      <td>0</td>\n",
              "      <td>0</td>\n",
              "      <td>0</td>\n",
              "      <td>0</td>\n",
              "      <td>0</td>\n",
              "      <td>0</td>\n",
              "      <td>0</td>\n",
              "    </tr>\n",
              "    <tr>\n",
              "      <th>3</th>\n",
              "      <td>0</td>\n",
              "      <td>0</td>\n",
              "      <td>0</td>\n",
              "      <td>0</td>\n",
              "      <td>1</td>\n",
              "      <td>0</td>\n",
              "      <td>0</td>\n",
              "      <td>0</td>\n",
              "      <td>0</td>\n",
              "      <td>0</td>\n",
              "      <td>0</td>\n",
              "      <td>0</td>\n",
              "      <td>0</td>\n",
              "      <td>0</td>\n",
              "      <td>0</td>\n",
              "      <td>0</td>\n",
              "      <td>0</td>\n",
              "      <td>0</td>\n",
              "      <td>0</td>\n",
              "      <td>0</td>\n",
              "    </tr>\n",
              "    <tr>\n",
              "      <th>4</th>\n",
              "      <td>1</td>\n",
              "      <td>0</td>\n",
              "      <td>0</td>\n",
              "      <td>0</td>\n",
              "      <td>0</td>\n",
              "      <td>0</td>\n",
              "      <td>0</td>\n",
              "      <td>0</td>\n",
              "      <td>0</td>\n",
              "      <td>0</td>\n",
              "      <td>0</td>\n",
              "      <td>0</td>\n",
              "      <td>0</td>\n",
              "      <td>0</td>\n",
              "      <td>0</td>\n",
              "      <td>0</td>\n",
              "      <td>0</td>\n",
              "      <td>0</td>\n",
              "      <td>0</td>\n",
              "      <td>0</td>\n",
              "    </tr>\n",
              "  </tbody>\n",
              "</table>\n",
              "</div>"
            ],
            "text/plain": [
              "   P00  P1  P10  P11  P12  P13  P14  P15  ...  P20  P3  P4  P5  P6  P7  P8  P9\n",
              "0    0   0    0    0    0    0    0    0  ...    0   0   0   0   0   0   1   0\n",
              "1    0   0    0    0    0    0    0    0  ...    0   0   0   0   0   0   0   0\n",
              "2    0   0    0    0    0    0    0    0  ...    0   0   0   0   0   0   0   0\n",
              "3    0   0    0    0    1    0    0    0  ...    0   0   0   0   0   0   0   0\n",
              "4    1   0    0    0    0    0    0    0  ...    0   0   0   0   0   0   0   0\n",
              "\n",
              "[5 rows x 20 columns]"
            ]
          },
          "metadata": {},
          "execution_count": 243
        }
      ]
    },
    {
      "cell_type": "markdown",
      "metadata": {
        "id": "Q6OzH_H5Uz7R"
      },
      "source": [
        "* Convertendo os valores 0 e 1 para os valores entregáveis "
      ]
    },
    {
      "cell_type": "code",
      "metadata": {
        "colab": {
          "base_uri": "https://localhost:8080/"
        },
        "id": "oH0Sus4bQBc7",
        "outputId": "67574e20-5d86-4c30-fe9e-0d63d63707e6"
      },
      "source": [
        "for p_cod in y_pred_test.columns:\n",
        "  y_pred_test[[p_cod]] = y_pred_test[[p_cod]].replace({1:str(p_cod),0:''})\n",
        "\n",
        "y_pred_test['y_pred'] = y_pred_test.apply(lambda x: str(' '.join(x).split()), axis=1)\n",
        "y_pred_test['y_pred']"
      ],
      "execution_count": 244,
      "outputs": [
        {
          "output_type": "execute_result",
          "data": {
            "text/plain": [
              "0                    ['P8']\n",
              "1                        []\n",
              "2                   ['P16']\n",
              "3                   ['P12']\n",
              "4                   ['P00']\n",
              "                ...        \n",
              "20322                    []\n",
              "20323                    []\n",
              "20324                    []\n",
              "20325    ['P1', 'P6', 'P7']\n",
              "20326                ['P8']\n",
              "Name: y_pred, Length: 20327, dtype: object"
            ]
          },
          "metadata": {},
          "execution_count": 244
        }
      ]
    },
    {
      "cell_type": "markdown",
      "metadata": {
        "id": "sw6ShzBtALBc"
      },
      "source": [
        "* Resultado entregável "
      ]
    },
    {
      "cell_type": "code",
      "metadata": {
        "colab": {
          "base_uri": "https://localhost:8080/",
          "height": 424
        },
        "id": "ecSesrqY-LiE",
        "outputId": "26b5a939-9431-4de6-d11f-b097d1356275"
      },
      "source": [
        "result_final = pd.DataFrame({'Id do Cliente': test_Customer_ID, 'Prodts. previstos': y_pred_test['y_pred']})\n",
        "result_final"
      ],
      "execution_count": 250,
      "outputs": [
        {
          "output_type": "execute_result",
          "data": {
            "text/html": [
              "<div>\n",
              "<style scoped>\n",
              "    .dataframe tbody tr th:only-of-type {\n",
              "        vertical-align: middle;\n",
              "    }\n",
              "\n",
              "    .dataframe tbody tr th {\n",
              "        vertical-align: top;\n",
              "    }\n",
              "\n",
              "    .dataframe thead th {\n",
              "        text-align: right;\n",
              "    }\n",
              "</style>\n",
              "<table border=\"1\" class=\"dataframe\">\n",
              "  <thead>\n",
              "    <tr style=\"text-align: right;\">\n",
              "      <th></th>\n",
              "      <th>Id do Cliente</th>\n",
              "      <th>Prodts. previstos</th>\n",
              "    </tr>\n",
              "  </thead>\n",
              "  <tbody>\n",
              "    <tr>\n",
              "      <th>0</th>\n",
              "      <td>CC372708</td>\n",
              "      <td>['P8']</td>\n",
              "    </tr>\n",
              "    <tr>\n",
              "      <th>1</th>\n",
              "      <td>CC216072</td>\n",
              "      <td>[]</td>\n",
              "    </tr>\n",
              "    <tr>\n",
              "      <th>2</th>\n",
              "      <td>CC387629</td>\n",
              "      <td>['P16']</td>\n",
              "    </tr>\n",
              "    <tr>\n",
              "      <th>3</th>\n",
              "      <td>CC389228</td>\n",
              "      <td>['P12']</td>\n",
              "    </tr>\n",
              "    <tr>\n",
              "      <th>4</th>\n",
              "      <td>CC394445</td>\n",
              "      <td>['P00']</td>\n",
              "    </tr>\n",
              "    <tr>\n",
              "      <th>...</th>\n",
              "      <td>...</td>\n",
              "      <td>...</td>\n",
              "    </tr>\n",
              "    <tr>\n",
              "      <th>20322</th>\n",
              "      <td>CC303542</td>\n",
              "      <td>[]</td>\n",
              "    </tr>\n",
              "    <tr>\n",
              "      <th>20323</th>\n",
              "      <td>CC266713</td>\n",
              "      <td>[]</td>\n",
              "    </tr>\n",
              "    <tr>\n",
              "      <th>20324</th>\n",
              "      <td>CC393639</td>\n",
              "      <td>[]</td>\n",
              "    </tr>\n",
              "    <tr>\n",
              "      <th>20325</th>\n",
              "      <td>CC285013</td>\n",
              "      <td>['P1', 'P6', 'P7']</td>\n",
              "    </tr>\n",
              "    <tr>\n",
              "      <th>20326</th>\n",
              "      <td>CC274657</td>\n",
              "      <td>['P8']</td>\n",
              "    </tr>\n",
              "  </tbody>\n",
              "</table>\n",
              "<p>20327 rows × 2 columns</p>\n",
              "</div>"
            ],
            "text/plain": [
              "      Id do Cliente   Prodts. previstos\n",
              "0          CC372708              ['P8']\n",
              "1          CC216072                  []\n",
              "2          CC387629             ['P16']\n",
              "3          CC389228             ['P12']\n",
              "4          CC394445             ['P00']\n",
              "...             ...                 ...\n",
              "20322      CC303542                  []\n",
              "20323      CC266713                  []\n",
              "20324      CC393639                  []\n",
              "20325      CC285013  ['P1', 'P6', 'P7']\n",
              "20326      CC274657              ['P8']\n",
              "\n",
              "[20327 rows x 2 columns]"
            ]
          },
          "metadata": {},
          "execution_count": 250
        }
      ]
    },
    {
      "cell_type": "markdown",
      "metadata": {
        "id": "Y-tW5_DeUd4O"
      },
      "source": [
        "* Salvando no formato .csv para envio"
      ]
    },
    {
      "cell_type": "code",
      "metadata": {
        "id": "wBiBTHkXUght"
      },
      "source": [
        "result_final.to_csv(\"resultado_final.csv\", index = False)"
      ],
      "execution_count": null,
      "outputs": []
    }
  ]
}